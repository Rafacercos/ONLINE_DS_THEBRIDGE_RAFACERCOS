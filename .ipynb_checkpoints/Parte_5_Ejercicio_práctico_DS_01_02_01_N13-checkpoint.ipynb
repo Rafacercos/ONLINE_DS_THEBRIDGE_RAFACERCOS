{
 "cells": [
  {
   "cell_type": "markdown",
   "metadata": {
    "colab_type": "text",
    "id": "view-in-github"
   },
   "source": [
    "<a href=\"https://colab.research.google.com/github/Rafacercos/ONLINE_DS_THEBRIDGE_RAFACERCOS/blob/main/Parte_5_Ejercicio_pr%C3%A1ctico_DS_01_02_01_N13.ipynb\" target=\"_parent\"><img src=\"https://colab.research.google.com/assets/colab-badge.svg\" alt=\"Open In Colab\"/></a>"
   ]
  },
  {
   "cell_type": "markdown",
   "metadata": {
    "id": "AyOlWS2nRWxH"
   },
   "source": [
    "## PRACTICA OBLIGATORIA: COLECCIONES Y FUNCIONES"
   ]
  },
  {
   "cell_type": "markdown",
   "metadata": {
    "id": "6UOgb0KVRWxH"
   },
   "source": [
    "* La práctica obligatoria de esta unidad consiste varios ejercicios de programación libre a completar sobre Colecciones y Funciones. Descarga este notebook en tu ordenador y trabaja en local.  \n",
    "* Recuerda que debes subirla a tu repositorio personal antes de la sesión en vivo para que puntúe adecuadamente y puedas participar en dicha sesión.  \n",
    "* Recuerda también que no es necesario que esté perfecta, sólo es necesario que se vea el esfuerzo.\n",
    "* Esta práctica se resolverá en la sesión en vivo correspondiente y la solución se publicará en el repo del curso."
   ]
  },
  {
   "cell_type": "markdown",
   "metadata": {
    "id": "j3yu-tEjRWxH"
   },
   "source": [
    "### Contenidos"
   ]
  },
  {
   "cell_type": "markdown",
   "metadata": {
    "id": "kO-fLH39RWxH"
   },
   "source": [
    "## Ejercicio 1\n",
    "Eleva todos los elementos de la lista al cuadrado\n",
    "> ```ejer_2 = [1,2,3,4,5]```"
   ]
  },
  {
   "cell_type": "code",
   "execution_count": 2,
   "metadata": {
    "id": "ks5l3yi7RWxH"
   },
   "outputs": [
    {
     "name": "stdout",
     "output_type": "stream",
     "text": [
      "[1, 4, 9, 16, 25]\n"
     ]
    }
   ],
   "source": [
    "ejer_2= [1,2,3,4,5]\n",
    "lista_vacia=[]\n",
    "for i in ejer_2:\n",
    "    x=i**2\n",
    "    lista_vacia.append(x)\n",
    "print(lista_vacia)\n",
    "    "
   ]
  },
  {
   "cell_type": "markdown",
   "metadata": {
    "id": "kI_Xr5oFRWxI"
   },
   "source": [
    "## Ejercicio 2\n",
    "Haz un programa que detecte todos los duplicados de un elemento en una lista:\n",
    "* Utiliza una variable duplicado para asignarle el valor del elemento del que queremos encontrar todos sus duplicados.\n",
    "* El programa debe devolver todos los índices de los elementos duplicados.\n",
    "* Aplícalo para encontrar los duplicados de \"un\", \"es\" y \"binario\" de:  \n",
    "\n",
    ">```ejer_3 = [\"Un\", \"árbol\", \"binario\", \"es\", \"una\", \"estructura\", \"de\", \"un\", \"tipo\", \"particular\", \"a\", \"veces\", \"no\", \"es\", \"ni\", \"binario\"]```\n"
   ]
  },
  {
   "cell_type": "code",
   "execution_count": 44,
   "metadata": {},
   "outputs": [
    {
     "name": "stdin",
     "output_type": "stream",
     "text": [
      "Introduce la palabra de la que quieres localizar el duplicado: es\n"
     ]
    },
    {
     "name": "stdout",
     "output_type": "stream",
     "text": [
      "El elemento es aparece en la posición 3\n",
      "El elemento es aparece en la posición 13\n",
      "el elemento es está repetido\n"
     ]
    },
    {
     "data": {
      "text/plain": [
       "2"
      ]
     },
     "execution_count": 44,
     "metadata": {},
     "output_type": "execute_result"
    }
   ],
   "source": [
    "duplicado= input(\"Introduce la palabra de la que quieres localizar el duplicado:\")\n",
    "def buscador_duplicados (lista, duplicado):\n",
    "    numero_apariciones=0\n",
    "    for indice,elemento in enumerate(lista):\n",
    "        if elemento == duplicado:\n",
    "            numero_apariciones=numero_apariciones +1\n",
    "            print(f\"El elemento {elemento} aparece en la posición {indice}\")\n",
    "            if numero_apariciones==2:\n",
    "                print (f\"el elemento {elemento} está repetido\")\n",
    "    return numero_apariciones\n",
    "buscador_duplicados ([\"Un\", \"árbol\", \"binario\", \"es\", \"una\", \"estructura\", \"de\", \"un\", \"tipo\", \"particular\", \"a\", \"veces\", \"no\", \"es\", \"ni\", \"binario\"],duplicado)\n",
    "            "
   ]
  },
  {
   "cell_type": "markdown",
   "metadata": {
    "id": "3WrBd5QaRWxI"
   },
   "source": [
    "## Ejercicio 3\n",
    "1. ¿Cuántas veces se repite el 3 en la siguiente tupla?\n",
    "2. Crea una tupla nueva con los elementos desde la posicion 5 a la 10.\n",
    "3. ¿Cuántos elementos tiene la tupla `ejer_3`?\n",
    "> ```ejer_9 = (3, 20, 3, 47, 19, 3, 29, 45, 67, 78, 90, 3, 3, 5, 2, 4, 7, 9, 4, 2, 4, 3, 3, 4, 6, 7)```"
   ]
  },
  {
   "cell_type": "code",
   "execution_count": 43,
   "metadata": {
    "id": "bkv_R5LYRWxI"
   },
   "outputs": [
    {
     "name": "stdout",
     "output_type": "stream",
     "text": [
      "El elemento 3 aparece en la posición 0\n",
      "El elemento 3 aparece en la posición 2\n",
      "el elemento 3 está repetido\n",
      "El elemento 3 aparece en la posición 5\n",
      "El elemento 3 aparece en la posición 11\n",
      "El elemento 3 aparece en la posición 12\n",
      "El elemento 3 aparece en la posición 21\n",
      "El elemento 3 aparece en la posición 22\n",
      "(3, 29, 45, 67, 78)\n",
      "el numero 3 aparece en la posición 0\n",
      "el numero 29 aparece en la posición 1\n",
      "el numero 45 aparece en la posición 2\n",
      "el numero 67 aparece en la posición 3\n",
      "el numero 78 aparece en la posición 4\n",
      "5\n"
     ]
    }
   ],
   "source": [
    "tupla=(3, 20, 3, 47, 19, 3, 29, 45, 67, 78, 90, 3, 3, 5, 2, 4, 7, 9, 4, 2, 4, 3, 3, 4, 6, 7)\n",
    "buscador_duplicados ((3, 20, 3, 47, 19, 3, 29, 45, 67, 78, 90, 3, 3, 5, 2, 4, 7, 9, 4, 2, 4, 3, 3, 4, 6, 7),3)\n",
    "nueva_tupla=tupla[5:10]\n",
    "print(nueva_tupla)\n",
    "for indice,numero in enumerate(nueva_tupla):\n",
    "    print(f\"el numero {numero} aparece en la posición {indice}\")\n",
    "print(len(nueva_tupla))"
   ]
  },
  {
   "cell_type": "markdown",
   "metadata": {
    "id": "6g8Y54AeRWxI"
   },
   "source": [
    "## Ejercicio 4\n",
    "Comprueba si el numero 60 esta en la tupla del ejercicio 3"
   ]
  },
  {
   "cell_type": "code",
   "execution_count": 47,
   "metadata": {
    "id": "F8VTEZonRWxI"
   },
   "outputs": [
    {
     "name": "stdout",
     "output_type": "stream",
     "text": [
      "Este no es el número 60\n",
      "Este no es el número 60\n",
      "Este no es el número 60\n",
      "Este no es el número 60\n",
      "Este no es el número 60\n"
     ]
    }
   ],
   "source": [
    "for i in nueva_tupla:\n",
    "    if i == 60:\n",
    "        print (\"Este es el número 60\")\n",
    "    else:\n",
    "        print (\"Este no es el número 60\")"
   ]
  },
  {
   "cell_type": "markdown",
   "metadata": {
    "id": "y0fg-ZA6RWxI"
   },
   "source": [
    "## Ejercicio 5\n",
    "1. Convierte la tupla del ejercicio 3 en una lista\n",
    "2. Convierte la tupla del ejercicio 3 en un set\n",
    "3. Convierte la tupla del ejercicio 3 en un diccionario. Usa también los indices"
   ]
  },
  {
   "cell_type": "code",
   "execution_count": 52,
   "metadata": {
    "id": "_O5hXr01RWxI"
   },
   "outputs": [
    {
     "name": "stdout",
     "output_type": "stream",
     "text": [
      "[3, 29, 45, 67, 78]\n",
      "{67, 3, 45, 78, 29}\n",
      "{0: 3, 1: 29, 2: 45, 3: 67, 4: 78}\n"
     ]
    }
   ],
   "source": [
    "lista_tp=list(nueva_tupla)\n",
    "print(lista_tp)\n",
    "set_tp =set(nueva_tupla)\n",
    "print(set_tp)\n",
    "dicc_tp=dict(enumerate(nueva_tupla))\n",
    "print(dicc_tp)\n"
   ]
  },
  {
   "cell_type": "markdown",
   "metadata": {
    "id": "eOdWWbxvRWxJ"
   },
   "source": [
    "## Ejercicio 6\n",
    "Multiplica todos los valores del diccionario\n",
    "> ```ejer_6 = {1: 11, 2: 22, 3: 33, 4: 44, 5: 55}```"
   ]
  },
  {
   "cell_type": "code",
   "execution_count": 57,
   "metadata": {
    "id": "KcuByovKRWxJ"
   },
   "outputs": [
    {
     "name": "stdout",
     "output_type": "stream",
     "text": [
      "1 11\n",
      "2 22\n",
      "3 33\n",
      "4 44\n",
      "5 55\n",
      "19326120\n"
     ]
    }
   ],
   "source": [
    "ejer_6 = {1: 11, 2: 22, 3: 33, 4: 44, 5: 55}\n",
    "multipli=1\n",
    "for clave,valor in ejer_6.items():\n",
    "    print(clave,valor)\n",
    "    multipli=multipli*valor\n",
    "print(multipli)"
   ]
  },
  {
   "cell_type": "markdown",
   "metadata": {
    "id": "W7TUSaKRRWxJ"
   },
   "source": [
    "## Ejercicio 7\n",
    "\n",
    "1. Crea un diccionario que describa un libro, con los siguientes campos o claves: \"titulo\",\"autor\",\"idioma original\",\"año de publicación\".\n",
    "2. Crea un a lista, llamada librería.\n",
    "3. Añade cuatro libros a tu elección a la librería."
   ]
  },
  {
   "cell_type": "code",
   "execution_count": 66,
   "metadata": {
    "id": "d-IMRvxRRWxJ",
    "vscode": {
     "languageId": "plaintext"
    }
   },
   "outputs": [
    {
     "name": "stdout",
     "output_type": "stream",
     "text": [
      "Escritor: Patrick Routhfous Título: El nombre del viento\n",
      "Escritor: Patrick Routhfous Título: El temor de un hombre sabio\n",
      "Escritor: Tolkien Título: El señor de los anillos\n",
      "Escritor: George R.R. Martin Título: Canción de hielo y fuego\n"
     ]
    }
   ],
   "source": [
    "dic_libro_1={\n",
    "    \"título\" : \"El nombre del viento\",\n",
    "    \"Autor\" : \"Patrick Routhfous\",\n",
    "    \"Idioma\" : \"Inglés\"\n",
    "}\n",
    "dic_libro_2={\n",
    "    \"título\" : \"El temor de un hombre sabio\",\n",
    "    \"Autor\" :  \"Patrick Routhfous\",\n",
    "    \"Idioma\" : \"Inglés\"\n",
    "}\n",
    "dic_libro_3={\n",
    "    \"título\" : \"El señor de los anillos\",\n",
    "    \"Autor\" : \"Tolkien\",\n",
    "    \"Idioma\" :\"Inglés\"\n",
    "}\n",
    "dic_libro_4={\n",
    "    \"título\" : \"Canción de hielo y fuego\",\n",
    "    \"Autor\" : \"George R.R. Martin\",\n",
    "    \"Idioma\" :\"Inglés\"\n",
    "}\n",
    "libreria=[dic_libro_1,dic_libro_2,dic_libro_3,dic_libro_4]\n",
    "for i in libreria:\n",
    "    print(f\"Escritor: {i['Autor']} Título: {i['título']}\")\n",
    "    \n",
    "    "
   ]
  },
  {
   "cell_type": "markdown",
   "metadata": {
    "id": "glMoedjYRWxJ"
   },
   "source": [
    "## Ejercicio 8\n",
    "Modifica los valores del idioma de todos los libros del ejercicio anterior para que sea \"esperanto\"\n"
   ]
  },
  {
   "cell_type": "code",
   "execution_count": null,
   "metadata": {
    "id": "veNdC-uwRWxJ"
   },
   "outputs": [],
   "source": []
  },
  {
   "cell_type": "markdown",
   "metadata": {
    "id": "DRCJG04KRWxJ"
   },
   "source": [
    "## Ejercicio 9\n",
    "1. Escribe un programa que dada una variable titulo busque los libros que hay en la librería con ese título. Si no se encuentra debe devolver el mensaje `Ese no lo tengo, ¿mola?`\n",
    "2. Pruena que el programa con uno de tus libros y con otro que no contenga tu librería."
   ]
  },
  {
   "cell_type": "code",
   "execution_count": null,
   "metadata": {
    "id": "eWHdJi9BRWxJ"
   },
   "outputs": [],
   "source": []
  },
  {
   "cell_type": "markdown",
   "metadata": {
    "id": "17YOpYuFRWxJ"
   },
   "source": [
    "## Ejercicio 10\n",
    "Convierte el programa del ejercicio 2 en una función al que se le pase el valor a buscar como un argumento posicional"
   ]
  },
  {
   "cell_type": "code",
   "execution_count": null,
   "metadata": {
    "id": "xbj0LgvnRWxJ"
   },
   "outputs": [],
   "source": []
  },
  {
   "cell_type": "markdown",
   "metadata": {
    "id": "xZ-sWJxPRWxJ"
   },
   "source": [
    "## Ejercicio 11\n",
    "Convierte el programa del ejercicio 9 en una función al que se le pasen como argumentos la librería, posicional, y el título, argumento keyword con valor \"ninguno\", por defecto."
   ]
  },
  {
   "cell_type": "code",
   "execution_count": null,
   "metadata": {
    "id": "4-JrsMdNRWxK"
   },
   "outputs": [],
   "source": []
  },
  {
   "cell_type": "markdown",
   "metadata": {
    "id": "FtJir95QRWxK"
   },
   "source": [
    "## Ejercicio 12\n",
    "Solicitar al usuario que ingrese su dirección email. Imprimir un mensaje indicando si la dirección es válida o no, valiéndose de una función para decidirlo. Una dirección se considerará válida si contiene el símbolo \"@\"."
   ]
  },
  {
   "cell_type": "code",
   "execution_count": null,
   "metadata": {
    "id": "sk852IZ8RWxK"
   },
   "outputs": [],
   "source": []
  },
  {
   "cell_type": "markdown",
   "metadata": {
    "id": "Kw1MWBwBRWxK"
   },
   "source": [
    "## Ejercicio 13\n",
    "Escribe una función que compruebe si un DNI es válido, devolviendo `True` en caso afirmativo.  \n",
    "En primer lugar, el DNI debe tener entre 7 y 8 dígitos numéricos.  \n",
    "Para saber si la letra del DNI es correcta puedes utilizar el siguiente fragmento de código:\n",
    ">```Python\n",
    ">DNI= 55555555\n",
    ">palabra='TRWAGMYFPDXBNJZSQVHLCKE'\n",
    ">print('La letra del DNI es: ', palabra[DNI%23])\n",
    ">````\n"
   ]
  },
  {
   "cell_type": "code",
   "execution_count": null,
   "metadata": {
    "id": "F5Z9rSHqRWxK"
   },
   "outputs": [],
   "source": []
  }
 ],
 "metadata": {
  "colab": {
   "include_colab_link": true,
   "provenance": []
  },
  "kernelspec": {
   "display_name": "Python 3 (ipykernel)",
   "language": "python",
   "name": "python3"
  },
  "language_info": {
   "codemirror_mode": {
    "name": "ipython",
    "version": 3
   },
   "file_extension": ".py",
   "mimetype": "text/x-python",
   "name": "python",
   "nbconvert_exporter": "python",
   "pygments_lexer": "ipython3",
   "version": "3.10.11"
  }
 },
 "nbformat": 4,
 "nbformat_minor": 4
}
