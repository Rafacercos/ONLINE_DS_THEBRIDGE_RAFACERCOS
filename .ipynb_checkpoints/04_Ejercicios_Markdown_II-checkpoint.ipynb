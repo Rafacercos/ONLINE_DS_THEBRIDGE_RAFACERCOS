{
 "cells": [
  {
   "cell_type": "markdown",
   "id": "a466a9aa",
   "metadata": {
    "colab_type": "text",
    "id": "view-in-github"
   },
   "source": [
    "<a href=\"https://colab.research.google.com/github/Rafacercos/ONLINE_DS_THEBRIDGE_RAFACERCOS/blob/main/04_Ejercicios_Markdown_II.ipynb\" target=\"_parent\"><img src=\"https://colab.research.google.com/assets/colab-badge.svg\" alt=\"Open In Colab\"/></a>"
   ]
  },
  {
   "cell_type": "markdown",
   "id": "c49ba49d",
   "metadata": {
    "id": "c49ba49d"
   },
   "source": [
    "<img src=\"./img/TheBridge_logo_RGB_color.jpg\" width = 500>"
   ]
  },
  {
   "cell_type": "markdown",
   "id": "22ff8a1a",
   "metadata": {
    "id": "22ff8a1a"
   },
   "source": [
    "# EJERCICIOS MARKDOWN (II)"
   ]
  },
  {
   "cell_type": "markdown",
   "id": "d626df26",
   "metadata": {
    "id": "d626df26"
   },
   "source": [
    "Aquí tienes cinco sencillos ejercicios para practicar lo aprendido en la segundasesión de Markdown. Como en el anterior, utiliza las celdas que hay debajo dec cada enunciado y recuerda convertirlas a Markdown primero ;-)\n",
    "\n",
    "Si algunos ejercicios no los entiendes de primeras, dales una vuelta, busca pistas, busca en Internet... pero todavía no le preguntes a ChatGPT... Recuerda con dudas teóricas corre a preguntar, con los ejercicios exprimete antes de preguntar."
   ]
  },
  {
   "cell_type": "markdown",
   "id": "b2efd92f",
   "metadata": {
    "id": "b2efd92f"
   },
   "source": [
    "### Ejercicio 6: Listas\n",
    "Crea una lista no ordenada con los siguientes elementos:\n",
    "\n",
    "1. Manzanas\n",
    "2. Plátanos\n",
    "3. Uvas"
   ]
  },
  {
   "cell_type": "markdown",
   "id": "95246f50-a379-434e-98e5-4cb8ff464379",
   "metadata": {},
   "source": [
    "* Manzanas\n",
    "* Platanos\n",
    "* Uvas"
   ]
  },
  {
   "cell_type": "markdown",
   "id": "nFRwS0cPAR5b",
   "metadata": {
    "id": "nFRwS0cPAR5b"
   },
   "source": [
    "* Manzanas\n",
    "+ Plátanos\n",
    "- Uvas"
   ]
  },
  {
   "cell_type": "markdown",
   "id": "c8c2ff80",
   "metadata": {
    "id": "c8c2ff80"
   },
   "source": [
    "Crea ahora una lista ordenada de 1 a 3 y que además lo esté alfabéticamente con estos elementos:\n",
    "\n",
    "    * Arbol binario\n",
    "    * Random Forest\n",
    "    * Regresión Logística"
   ]
  },
  {
   "cell_type": "markdown",
   "id": "6444b63f-3986-4346-8e32-02555f7ba33d",
   "metadata": {},
   "source": [
    "1. Arbol binario\n",
    "3. Random Forest \n",
    "4. Regresión logística "
   ]
  },
  {
   "cell_type": "markdown",
   "id": "BCfkq7eMBmrt",
   "metadata": {
    "id": "BCfkq7eMBmrt"
   },
   "source": [
    "1. Arbol binario\n",
    "2. Random Forest\n",
    "3. Regresión Logística"
   ]
  },
  {
   "cell_type": "markdown",
   "id": "2c65c04a",
   "metadata": {
    "id": "2c65c04a"
   },
   "source": [
    "### Ejercicio 7: Listas Anidadas\n",
    "Bajo el título \"Frutas y Verduras\", crea una lista ordenada de frutas, y dentro de esta, anida una lista no ordenada de tres frutas. Luego, crea otra lista ordenada de verduras y anida dentro de ella una lista no ordenada de tres verduras.\n",
    "\n",
    "Las listas anidadas no las hemos visto pero seguro que con esto te haces una idea, como con los subrayados en los ejercicios de la primera parte:\n",
    "1. El elemento con orden\n",
    "* Aquí sin orden\n",
    "2. El siguiente\n",
    "* Pico\n",
    "* Pala\n"
   ]
  },
  {
   "cell_type": "markdown",
   "id": "2fb4e4e0-cff6-4e58-9ad5-3585d86b3004",
   "metadata": {},
   "source": [
    "# Frutas y verduras\n",
    "1. Frutas\n",
    "   * verano\n",
    "   * invierno\n",
    "   * otoño\n",
    "   * primavera\n",
    "   * todas las temporadas\n",
    "2. Verduras\n",
    "   * hervidas\n",
    "     - estofados\n",
    "     - sal y aceite\n",
    "   * fritas\n",
    "   * crudas\n",
    "     "
   ]
  },
  {
   "cell_type": "markdown",
   "id": "cPML7ys-EQqR",
   "metadata": {
    "id": "cPML7ys-EQqR"
   },
   "source": [
    "#Frutas y Verduras  \n",
    "1. Frutas:    \n",
    "  1.1. Ácidas\n",
    "  * Limón\n",
    "  + Fresa\n",
    "  - Naranja\n",
    "  1.2. Dulces  \n",
    "  * Banano\n",
    "  + Cereza\n",
    "  - Melón\n",
    "\n",
    "2. Verduras:  \n",
    "  2.1. Hoja\n",
    "  * Acelga\n",
    "  + Espinaca\n",
    "  -Lechuga\n",
    "  2.2. Fruto\n",
    "  * Berengena\n",
    "  + Pepino\n",
    "  - Tomate\n",
    "\n",
    "\n"
   ]
  },
  {
   "cell_type": "markdown",
   "id": "e224fbf7",
   "metadata": {
    "id": "e224fbf7"
   },
   "source": [
    "### Ejercicio 8: Enlaces e Imágenes\n",
    "Inserta:\n",
    "\n",
    "1. Un enlace que lleve a \"www.thebridge.com\" con el texto \"Por aquí se cruzan puentes\".\n",
    "2. Una imagen de cualquier URL con el texto alternativo \"Logo\". Recuerda que puedes hacerlo referenciando la imagen a través de su ruta en tu ordenador, o bien incrustandola en el notebook\n"
   ]
  },
  {
   "cell_type": "markdown",
   "id": "53e943f6-04f8-45a9-afaa-5e170add0d33",
   "metadata": {},
   "source": [
    "[Por aqui se cruzan puentes](www.thebridge.com)  \n",
    "![logo](./Teh-Bridge-TEch.png)"
   ]
  },
  {
   "cell_type": "markdown",
   "id": "0xSJfqA4IY5h",
   "metadata": {
    "id": "0xSJfqA4IY5h"
   },
   "source": [
    "[Por aquí se cruzan puentes](www.thebridge.com).  \n",
    "\n",
    "\n",
    "![Logo](https://campusvirtual.thebridge.tech/pluginfile.php/1/core_admin/logocompact/300x300/1734003960/logo.png)"
   ]
  },
  {
   "cell_type": "markdown",
   "id": "94e48fe3",
   "metadata": {
    "id": "94e48fe3"
   },
   "source": [
    "### Ejercicio 9: Líneas Horizontales y Bloques de Código\n",
    "Inserta:\n",
    "\n",
    "1. Un bloque de código en Python que imprima \"Hola Mundo\" (pista: print(\"Hola Mundo\")) entre dos líneas horizontales, cada una creada con un método diferente."
   ]
  },
  {
   "cell_type": "markdown",
   "id": "5eae0435-fde9-488d-a168-4889b64447f1",
   "metadata": {},
   "source": [
    "***\n",
    "```Python\n",
    "print(\"Hola Mundo\")\n",
    "```\n",
    "---"
   ]
  },
  {
   "cell_type": "markdown",
   "id": "_t9Olq2GLULt",
   "metadata": {
    "id": "_t9Olq2GLULt"
   },
   "source": [
    "***"
   ]
  },
  {
   "cell_type": "code",
   "execution_count": null,
   "id": "64W8ZshBLWU3",
   "metadata": {
    "id": "64W8ZshBLWU3"
   },
   "outputs": [],
   "source": [
    "print(\"Hola Mundo\")"
   ]
  },
  {
   "cell_type": "markdown",
   "id": "qogO5U51Lcmm",
   "metadata": {
    "id": "qogO5U51Lcmm"
   },
   "source": [
    "---"
   ]
  }
 ],
 "metadata": {
  "colab": {
   "include_colab_link": true,
   "provenance": []
  },
  "kernelspec": {
   "display_name": "Python 3 (ipykernel)",
   "language": "python",
   "name": "python3"
  },
  "language_info": {
   "codemirror_mode": {
    "name": "ipython",
    "version": 3
   },
   "file_extension": ".py",
   "mimetype": "text/x-python",
   "name": "python",
   "nbconvert_exporter": "python",
   "pygments_lexer": "ipython3",
   "version": "3.10.11"
  }
 },
 "nbformat": 4,
 "nbformat_minor": 5
}
