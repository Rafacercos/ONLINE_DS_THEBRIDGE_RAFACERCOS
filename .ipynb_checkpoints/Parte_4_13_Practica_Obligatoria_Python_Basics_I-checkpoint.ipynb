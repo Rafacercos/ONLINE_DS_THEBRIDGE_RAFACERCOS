{
 "cells": [
  {
   "cell_type": "markdown",
   "metadata": {
    "colab_type": "text",
    "id": "view-in-github"
   },
   "source": [
    "<a href=\"https://colab.research.google.com/github/Rafacercos/ONLINE_DS_THEBRIDGE_RAFACERCOS/blob/main/Parte_4_13_Practica_Obligatoria_Python_Basics_I.ipynb\" target=\"_parent\"><img src=\"https://colab.research.google.com/assets/colab-badge.svg\" alt=\"Open In Colab\"/></a>"
   ]
  },
  {
   "cell_type": "markdown",
   "metadata": {
    "id": "59zPhBxXNPxs"
   },
   "source": [
    "## PRACTICA OBLIGATORIA: PYTHON"
   ]
  },
  {
   "cell_type": "markdown",
   "metadata": {
    "id": "mv2kb1GMNPxs"
   },
   "source": [
    "* La práctica obligatoria de esta unidad consiste en dos ejercicios de programación libre a completar.   \n",
    "* Recuerda que debes subirla a tu repositorio personal antes de la sesión en vivo para que puntúe adecuadamente.  \n",
    "* Recuerda también que no es necesario que esté perfecta, sólo es necesario que se vea el esfuerzo.\n",
    "* Esta práctica se resolverá en la sesión en vivo correspondiente y la solución se publicará en el repo del curso."
   ]
  },
  {
   "cell_type": "markdown",
   "metadata": {
    "id": "Kl9JzST2NPxt"
   },
   "source": [
    "\n",
    "## PARTE I\n",
    "\n",
    "En este ejercicio debes simular un chatbot al que le haremos pedidos de pizzas.\n",
    "\n",
    "1. El chatbot tiene que saludar con un: \"Buenas tardes, bienvenido al servicio de pedido online, el precio de nuestra pizzas es de 8,95 para la familiar o de 9,90 para la mediana ¿Cuántas pizzas  familiares desea?\"\n",
    "2. El ususario tiene que introducir un número de pizzas en una variable llamada 'pizz_familiar'\n",
    "3. El chatbot debe responder: \"Estupendo, ¿cuántas pizzas medianas desea?\" y guardar el número de pizzas medianas en otra variable 'pizz_mediana'\n",
    "4. Además debe responder del chatbot: \"Estupendo, se están preparando 'pizz' pizzas familiares y 'pizz_mediana' pizzas medianas. Digame su dirección\"\n",
    "5. El ususario tiene que introducir una direccion en formato String en otra variable llamada 'direcc'\n",
    "6. El programa debe calcular el monto total\n",
    "7. Respuesta final del chatbot: \"Le mandaremos las '(número total de pizzas)' pizzas a la dirección 'direcc'. Serán <precio total a pagar en euros>. Muchas gracias por su pedido.\"\n",
    "         \n"
   ]
  },
  {
   "cell_type": "code",
   "execution_count": 10,
   "metadata": {
    "id": "qkKibyt-NPxt"
   },
   "outputs": [
    {
     "name": "stdin",
     "output_type": "stream",
     "text": [
      "Buenas tardes, bienvenido al servicio de pedido online, el precio de nuestras pizzas es de 8,95 para la familiar o de 9,90 para la mediana. ¿Cuántas pizzas familiares desea? 2\n",
      "Estupendo, ¿Cuántas pizzas medianas desea? 2\n",
      "Se están preparando 2 pizzas familiares y 2 pizzas medianas. Digame su direccion averroes 3\n"
     ]
    },
    {
     "name": "stdout",
     "output_type": "stream",
     "text": [
      "Le mandaremos las 4.0 pizzas a la direccion averroes 3. Serán 37.7. Muchas gracias por su pedido\n"
     ]
    }
   ],
   "source": [
    "pizz_familiar=input(\"Buenas tardes, bienvenido al servicio de pedido online, el precio de nuestras pizzas es de 8,95 para la familiar o de 9,90 para la mediana. ¿Cuántas pizzas familiares desea?\")\n",
    "pizz_mediana = input(\"Estupendo, ¿Cuántas pizzas medianas desea?\") \n",
    "direccion= input (f\"Se están preparando {pizz_familiar} pizzas familiares y {pizz_mediana} pizzas medianas. Digame su direccion\")\n",
    "factura= float(pizz_familiar) * 8.95 + float(pizz_mediana) * 9.90\n",
    "total_pizzas= float(pizz_familiar) + float(pizz_mediana)\n",
    "print(f\"Le mandaremos las {total_pizzas} pizzas a la direccion {direccion}. Serán {factura}. Muchas gracias por su pedido\")"
   ]
  },
  {
   "cell_type": "markdown",
   "metadata": {
    "id": "f0oqoGDGNPxt"
   },
   "source": [
    "\n",
    "## Parte II\n",
    "\n",
    "Crea un programa que realice las siguientes acciones:\n",
    "\n",
    "1. Solicite al usuario que introduzca 3 números enteros separados por comas (por ejemplo: 1,2,3).\n",
    "2. Convierta esa entrada en una lista de números enteros.\n",
    "3. Utilizando funciones built-in, determine el número máximo, el número mínimo y la suma total de los números introducidos.\n",
    "4. Determine la verdad o falsedad de la siguiente afirmación: \"El número máximo menos el número mínimo es igual a la suma total dividida por 5\".\n",
    "5. Muestre los resultados utilizando print."
   ]
  },
  {
   "cell_type": "code",
   "execution_count": 48,
   "metadata": {
    "id": "rAlpWiQ9NPxt",
    "scrolled": true
   },
   "outputs": [
    {
     "name": "stdin",
     "output_type": "stream",
     "text": [
      "Itroduzca tres numeros enteros separados por comas 1, 12, 123\n"
     ]
    },
    {
     "name": "stdout",
     "output_type": "stream",
     "text": [
      "1 <class 'int'>\n",
      "12 <class 'int'>\n",
      "123 <class 'int'>\n",
      "[1, 12, 123]\n",
      "123 \n",
      " 1 \n",
      " 136\n",
      "False\n"
     ]
    }
   ],
   "source": [
    "numeros=input(\"Itroduzca tres numeros enteros separados por comas\")\n",
    "lista_original= numeros.split(\",\")\n",
    "lista_vacia= []\n",
    "for i in lista_original:\n",
    "        x=int(i)\n",
    "        print(x,type(x))\n",
    "        lista_vacia.append(x)\n",
    "        \n",
    "print(lista_vacia)\n",
    "print(max(lista_vacia),\"\\n\", min(lista_vacia),\"\\n\",sum(lista_vacia))\n",
    "print(max(lista_vacia)-min(lista_vacia) == sum(lista_vacia)/5)\n",
    "        \n",
    "\n"
   ]
  },
  {
   "cell_type": "code",
   "execution_count": 49,
   "metadata": {},
   "outputs": [
    {
     "name": "stdout",
     "output_type": "stream",
     "text": [
      "['1', ' 12', ' 123']\n"
     ]
    }
   ],
   "source": [
    "print(lista_original)"
   ]
  },
  {
   "cell_type": "code",
   "execution_count": null,
   "metadata": {},
   "outputs": [],
   "source": []
  }
 ],
 "metadata": {
  "colab": {
   "include_colab_link": true,
   "provenance": []
  },
  "kernelspec": {
   "display_name": "Python 3 (ipykernel)",
   "language": "python",
   "name": "python3"
  },
  "language_info": {
   "codemirror_mode": {
    "name": "ipython",
    "version": 3
   },
   "file_extension": ".py",
   "mimetype": "text/x-python",
   "name": "python",
   "nbconvert_exporter": "python",
   "pygments_lexer": "ipython3",
   "version": "3.10.11"
  }
 },
 "nbformat": 4,
 "nbformat_minor": 4
}
