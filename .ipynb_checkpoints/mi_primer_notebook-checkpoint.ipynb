{
 "cells": [
  {
   "cell_type": "code",
   "execution_count": 1,
   "id": "1d449474-1af4-4226-8a60-d2283031e227",
   "metadata": {},
   "outputs": [
    {
     "name": "stdout",
     "output_type": "stream",
     "text": [
      "Hola mundo\n"
     ]
    }
   ],
   "source": [
    "print(\"Hola mundo\")"
   ]
  },
  {
   "cell_type": "markdown",
   "id": "c6630d89-acc8-4e15-9e9e-a6ff9b8b8274",
   "metadata": {},
   "source": [
    "Hola mundo "
   ]
  },
  {
   "cell_type": "code",
   "execution_count": 2,
   "id": "ef89262f-e8bc-4add-902d-70205f5db22c",
   "metadata": {},
   "outputs": [
    {
     "name": "stdout",
     "output_type": "stream",
     "text": [
      "Comprar\n",
      "No comprar\n",
      "No comprar \n",
      " No comprar \n",
      " No comprar\n"
     ]
    }
   ],
   "source": [
    "def decision(ram,disc, s_op,precio):\n",
    "    if ram == 16 or ram == 32 or ram == 64:\n",
    "        cond1= True\n",
    "    else:\n",
    "        cond1= False\n",
    "    if disc == 500 and s_op ==\"i3\":\n",
    "        cond2 = True\n",
    "    else:\n",
    "        cond2 = False\n",
    "    if precio <= 800:\n",
    "        cond3 = True\n",
    "    else:\n",
    "        cond3 = False\n",
    "    if cond1 and cond2 and cond3:\n",
    "        decision_temporal= \"Comprar\"\n",
    "    else:\n",
    "        decision_temporal= \"No comprar\"\n",
    "    return decision_temporal\n",
    "print (decision(32,500,\"i3\",732))\n",
    "print (decision(32,444,\"i3\",700))\n",
    "print (decision(32,500,\"i5\",700),\"\\n\", decision(32,500,\"i3\",801),\"\\n\",decision(60,500,\"i3\",799))"
   ]
  },
  {
   "cell_type": "code",
   "execution_count": 8,
   "id": "0c87dfbd-9023-43ff-bfc7-81755d3e82ae",
   "metadata": {},
   "outputs": [
    {
     "data": {
      "text/plain": [
       "[(0, 'Rafa'), (1, 'Pablo'), (2, 'Hugo')]"
      ]
     },
     "execution_count": 8,
     "metadata": {},
     "output_type": "execute_result"
    }
   ],
   "source": [
    "nombres=[\"Rafa\",\"Pablo\",\"Hugo\"]\n",
    "list(enumerate(nombres))"
   ]
  },
  {
   "cell_type": "code",
   "execution_count": 14,
   "id": "ab91437c-0719-4ca5-85ca-f0f685c98999",
   "metadata": {},
   "outputs": [
    {
     "name": "stdout",
     "output_type": "stream",
     "text": [
      "Caso0:Rafa\n",
      "Caso1:Pablo\n",
      "Caso2:Hugo\n"
     ]
    }
   ],
   "source": [
    "for index,nombre in enumerate(nombres):\n",
    "    print(f\"Caso{index}:{nombre}\")"
   ]
  },
  {
   "cell_type": "code",
   "execution_count": null,
   "id": "08bdb6b2-5333-4376-a42d-db398d6f257c",
   "metadata": {},
   "outputs": [],
   "source": []
  }
 ],
 "metadata": {
  "kernelspec": {
   "display_name": "Python 3 (ipykernel)",
   "language": "python",
   "name": "python3"
  },
  "language_info": {
   "codemirror_mode": {
    "name": "ipython",
    "version": 3
   },
   "file_extension": ".py",
   "mimetype": "text/x-python",
   "name": "python",
   "nbconvert_exporter": "python",
   "pygments_lexer": "ipython3",
   "version": "3.10.11"
  }
 },
 "nbformat": 4,
 "nbformat_minor": 5
}
