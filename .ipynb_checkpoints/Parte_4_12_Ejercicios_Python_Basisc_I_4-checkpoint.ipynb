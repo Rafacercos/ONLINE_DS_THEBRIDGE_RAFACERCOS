{
 "cells": [
  {
   "cell_type": "markdown",
   "metadata": {
    "colab_type": "text",
    "id": "view-in-github"
   },
   "source": [
    "<a href=\"https://colab.research.google.com/github/Rafacercos/ONLINE_DS_THEBRIDGE_RAFACERCOS/blob/main/Parte_4_12_Ejercicios_Python_Basisc_I_4.ipynb\" target=\"_parent\"><img src=\"https://colab.research.google.com/assets/colab-badge.svg\" alt=\"Open In Colab\"/></a>"
   ]
  },
  {
   "cell_type": "markdown",
   "metadata": {
    "id": "gs_mmd046DlB"
   },
   "source": [
    "## EJERCICIOS PYTHON BASICO 4:\n",
    "## Funciones, métodos, listas"
   ]
  },
  {
   "cell_type": "markdown",
   "metadata": {
    "id": "QNqcVR2K6DlC"
   },
   "source": [
    "Completa los siguiente ejercicios, la solución completa a los mismos se publicarán en el repo del curso a lo largo del sprint. En algunos ejercicios se muestra la solución final, para que puedas comprobar que lo has hecho bien, pero lo importante es el código que generes. ¡Vaaamos, a ello...!"
   ]
  },
  {
   "cell_type": "markdown",
   "metadata": {
    "id": "erqwh_5m6DlC"
   },
   "source": [
    "\n",
    "\n",
    "## Ejercicio 1\n",
    "Para este ejercicio vamos a poner en práctica [las funciones built in](https://docs.python.org/3/library/functions.html).\n",
    "\n",
    "1. Calcula el máximo de la lista: [4, 6, 8, -1]\n",
    "2. Suma todos los elementos de la lista anterior\n",
    "3. Redondea este float a 3 dígitos decimales: 63.451256965\n",
    "4. Valor absoluto de: -74"
   ]
  },
  {
   "cell_type": "code",
   "execution_count": 3,
   "metadata": {
    "id": "VsnhTI4e6DlD"
   },
   "outputs": [
    {
     "name": "stdout",
     "output_type": "stream",
     "text": [
      "8 \n",
      " 17 \n",
      " 63.451 \n",
      " 74.0\n"
     ]
    }
   ],
   "source": [
    "import math\n",
    "primera_lista=[4,6,8,-1]\n",
    "print(max(primera_lista),\"\\n\",sum(primera_lista),\"\\n\", round(63.451256965,3),\"\\n\",math.fabs(-74))"
   ]
  },
  {
   "cell_type": "markdown",
   "metadata": {
    "id": "uajGtdZl6DlD"
   },
   "source": [
    "\n",
    "\n",
    "## Ejercicio 2\n",
    "Para el siguiente string se pide imprimir por pantalla los siguientes casos\n",
    "\n",
    "    \"En un lugar de la Mancha, de cuyo nombre no quiero acordarme.\"\n",
    "\n",
    "1. Pásalo todo a mayúsculas\n",
    "2. Pásalo todo a minúsculas\n",
    "3. Solo la primera letra de cada palabra en mayúscula, el resto en minúscula\n",
    "4. Crea una lista dividiéndolo por sus espacios\n",
    "5. Sustituye las comas `,` por puntos y comas `;`\n",
    "6. Elimina las `a` minúsculas"
   ]
  },
  {
   "cell_type": "code",
   "execution_count": 22,
   "metadata": {
    "id": "JV0dFY1l6DlE",
    "outputId": "a9fd3819-5b5f-4a1d-b926-814d275344cf"
   },
   "outputs": [
    {
     "name": "stdout",
     "output_type": "stream",
     "text": [
      "EN UN LUGAR DE LA MANCHA , DE CUYO NOMBRE NO QUIERO ACORDARME. \n",
      " en un lugar de la mancha , de cuyo nombre no quiero acordarme. \n",
      " En Un Lugar De La Mancha , De Cuyo Nombre No Quiero Acordarme. \n",
      " ['En', 'un', 'lugar', 'de', 'la', 'Mancha', ',', 'de', 'cuyo', 'nombre', 'no', 'quiero', 'acordarme.'] \n",
      " En un lugar de la Mancha ; de cuyo nombre no quiero acordarme. \n",
      " En un lugr de l Mnch , de cuyo nombre no quiero cordrme.\n"
     ]
    }
   ],
   "source": [
    "frase=\"En un lugar de la Mancha , de cuyo nombre no quiero acordarme.\"\n",
    "lista_strings= frase.split()\n",
    "print(frase.upper(),\"\\n\",frase.lower(),\"\\n\",frase.title(),\"\\n\",lista_strings,\"\\n\", frase.replace(\",\",\";\"),\"\\n\",frase.replace(\"a\",\"\"))"
   ]
  },
  {
   "cell_type": "markdown",
   "metadata": {
    "id": "fViap9fj6DlE"
   },
   "source": [
    "\n",
    "\n",
    "## Ejercicio 3\n",
    "1. Crea una lista con 3 elementos numéricos\n",
    "2. Añade un cuarto elemento\n",
    "3. Calcula la suma de todos\n",
    "4. Elimina el segundo elemento de la lista\n",
    "5. Añade otro elemento en la posicion 3 de la lista\n",
    "6. Crea otra lista con 4 elementos y concaténala a la que ya tenías.\n",
    "7. Ordena la lista de menor a mayor.\n",
    "8. BONUS: Ordena la lista de mayor a menor.  \n",
    "(*PISTA: Para hacer 8, tendrás que buscar en la información del método...*)  \n",
    "  \n",
    "  \n",
    "NOTA: Pinta por pantalla el resultado de cada paso."
   ]
  },
  {
   "cell_type": "code",
   "execution_count": 5,
   "metadata": {
    "id": "CmlzVtxS6DlF",
    "outputId": "01d783f4-d8cf-4960-dfe8-884f00f65069"
   },
   "outputs": [
    {
     "name": "stdout",
     "output_type": "stream",
     "text": [
      "[2, 12, 3.1]\n",
      "[2, 12, 3.1, -3]\n",
      "[2, 3.1, -3]\n",
      "[2, 3.1, -3, 2, 4, 6, 8]\n",
      "[-3, 2, 2, 3.1, 4, 6, 8]\n",
      "[8, 6, 4, 3.1, 2, 2, -3]\n"
     ]
    }
   ],
   "source": [
    "lista_num=[2,12,3.1]\n",
    "print(lista_num)\n",
    "lista_num.append(-3)\n",
    "print(lista_num)\n",
    "lista_num.pop(1)\n",
    "print(lista_num)\n",
    "lista_2=[2,4,6,8]\n",
    "mix=lista_num + lista_2\n",
    "print(mix)\n",
    "mix.sort()\n",
    "print(mix)\n",
    "mix.sort(reverse=True) #encontrado en google\n",
    "print(mix)"
   ]
  },
  {
   "cell_type": "code",
   "execution_count": null,
   "metadata": {},
   "outputs": [],
   "source": []
  }
 ],
 "metadata": {
  "colab": {
   "include_colab_link": true,
   "provenance": []
  },
  "kernelspec": {
   "display_name": "Python 3 (ipykernel)",
   "language": "python",
   "name": "python3"
  },
  "language_info": {
   "codemirror_mode": {
    "name": "ipython",
    "version": 3
   },
   "file_extension": ".py",
   "mimetype": "text/x-python",
   "name": "python",
   "nbconvert_exporter": "python",
   "pygments_lexer": "ipython3",
   "version": "3.10.11"
  }
 },
 "nbformat": 4,
 "nbformat_minor": 4
}
