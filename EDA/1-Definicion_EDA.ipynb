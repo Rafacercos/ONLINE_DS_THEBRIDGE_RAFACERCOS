{
 "cells": [
  {
   "cell_type": "markdown",
   "metadata": {},
   "source": [
    "![imagen](./img/ejercicios.png)"
   ]
  },
  {
   "cell_type": "markdown",
   "metadata": {},
   "source": [
    "# INFORMACIÓN DEL PROYECTO"
   ]
  },
  {
   "cell_type": "markdown",
   "metadata": {},
   "source": [
    "### TÍTULO"
   ]
  },
  {
   "cell_type": "markdown",
   "metadata": {},
   "source": [
    "***La salud mental, a exámen***"
   ]
  },
  {
   "cell_type": "markdown",
   "metadata": {},
   "source": [
    "### TEMA"
   ]
  },
  {
   "cell_type": "markdown",
   "metadata": {},
   "source": [
    "La salud mental y el diagnóstico de trastornos y enfermedades mentales es un asunto que, aunque ciertamente controvertido, goza de un foco y relevancia mediática considerable hoy en día. Sin embargo, la etiología de los trastornos mentales con mayor prevalencia a nivel global no es del todo clara o precisa, puesto que la psicología es una ciencia relativamente moderna. Del mismo modo con bastante frecuencia los gobiernos e instituciones encargadas de la salud mental no logran afrontar el problema con precisión puesto que tampoco está demasiado claro qué variables pueden estar interaccionando a nivel macro. Y ante toda esta confusión las cifras de suicidios parecen no dejar de creecer en ciertas regiones...\n",
    "\n",
    " Este proyecto tiene como objetivo estudiar qué tipo de relación existe entre determinadas características sociales y la prevalencia de los mas frecuentes trastornos mentales, para elaborar, en base a esto, algunas conclusiones que puedan esclarecer la visión popular. "
   ]
  },
  {
   "cell_type": "markdown",
   "metadata": {},
   "source": [
    "### HIPÓTESIS"
   ]
  },
  {
   "cell_type": "markdown",
   "metadata": {},
   "source": [
    "Define aquí lo que será la hipótesis de tu proyecto.\n",
    "Deberás tener más de una, pero tu proyecto lo harás teniendo una principal hipótesis."
   ]
  },
  {
   "cell_type": "markdown",
   "metadata": {},
   "source": [
    "*.Los diagnósticos de los principales trastornos mentales aun aumentado significativamente más en la última decada que en las dos anteriores.  \n",
    "   1.1 No existe una tendencia global de diagnóstico, existen diferencias considerables entre la prevalencia de los diferentes trastornos en los distintos continentes.  \n",
    "         1.2 \n",
    "2. "
   ]
  },
  {
   "cell_type": "markdown",
   "metadata": {},
   "source": [
    "## OBTENCIÓN DE LOS DATOS"
   ]
  },
  {
   "cell_type": "markdown",
   "metadata": {},
   "source": [
    "### DATASETS Y FUENTES ALTERNATIVAS DE DATOS"
   ]
  },
  {
   "cell_type": "markdown",
   "metadata": {},
   "source": [
    "Incluye aquí una vista del dataset o datasets de los que partirás para poder evaluar tu hipótesis. <br>\n",
    "También incluye el origen de estos datos y su fuente."
   ]
  },
  {
   "cell_type": "code",
   "execution_count": null,
   "metadata": {},
   "outputs": [],
   "source": [
    "import pandas as pd\n",
    "# guarda en variables los datasets y su fuente\n",
    "df_1 = pd.DataFrame()\n",
    "fuente_1 = \"\"\n",
    "# df_2 = pd.DataFrame()\n",
    "# fuente_2 = \"\"\n",
    "# df_3 = pd.DataFrame()\n",
    "# fuente_3 = \"\"\n",
    "# df_4 = pd.DataFrame()\n",
    "# fuente_4 = \"\"\n",
    "# df_5 = pd.DataFrame()\n",
    "# fuente_5 = \"\"\n",
    "# ..."
   ]
  },
  {
   "cell_type": "markdown",
   "metadata": {},
   "source": [
    "Muestra mediante un head() los principales datasets con los que vas a trabajar"
   ]
  },
  {
   "cell_type": "code",
   "execution_count": null,
   "metadata": {},
   "outputs": [],
   "source": [
    "# Primer dataset\n",
    "# df_1.head()"
   ]
  },
  {
   "cell_type": "code",
   "execution_count": null,
   "metadata": {},
   "outputs": [],
   "source": [
    "# Siguiente dataset...\n",
    "# df_2.head()"
   ]
  }
 ],
 "metadata": {
  "kernelspec": {
   "display_name": "Python 3.7.4 64-bit",
   "language": "python",
   "name": "python3"
  },
  "language_info": {
   "codemirror_mode": {
    "name": "ipython",
    "version": 3
   },
   "file_extension": ".py",
   "mimetype": "text/x-python",
   "name": "python",
   "nbconvert_exporter": "python",
   "pygments_lexer": "ipython3",
   "version": "3.7.4"
  },
  "orig_nbformat": 4,
  "vscode": {
   "interpreter": {
    "hash": "90139cb9a825bf3d63f6f6704e828dbd1ff7edbd4d0c6e906a71235d6efc74af"
   }
  }
 },
 "nbformat": 4,
 "nbformat_minor": 2
}
