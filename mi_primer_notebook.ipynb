{
 "cells": [
  {
   "cell_type": "code",
   "execution_count": 2,
   "id": "1d449474-1af4-4226-8a60-d2283031e227",
   "metadata": {},
   "outputs": [
    {
     "name": "stdout",
     "output_type": "stream",
     "text": [
      "Hola mundo\n"
     ]
    }
   ],
   "source": [
    "print(\"Hola mundo\")"
   ]
  },
  {
   "cell_type": "markdown",
   "id": "c6630d89-acc8-4e15-9e9e-a6ff9b8b8274",
   "metadata": {},
   "source": [
    "Hola mundo "
   ]
  },
  {
   "cell_type": "code",
   "execution_count": 3,
   "id": "ef89262f-e8bc-4add-902d-70205f5db22c",
   "metadata": {},
   "outputs": [
    {
     "name": "stdout",
     "output_type": "stream",
     "text": [
      "Comprar\n",
      "No comprar\n",
      "No comprar \n",
      " No comprar \n",
      " No comprar\n"
     ]
    }
   ],
   "source": [
    "def decision(ram,disc, s_op,precio):\n",
    "    if ram == 16 or ram == 32 or ram == 64:\n",
    "        cond1= True\n",
    "    else:\n",
    "        cond1= False\n",
    "    if disc == 500 and s_op ==\"i3\":\n",
    "        cond2 = True\n",
    "    else:\n",
    "        cond2 = False\n",
    "    if precio <= 800:\n",
    "        cond3 = True\n",
    "    else:\n",
    "        cond3 = False\n",
    "    if cond1 and cond2 and cond3:\n",
    "        decision_temporal= \"Comprar\"\n",
    "    else:\n",
    "        decision_temporal= \"No comprar\"\n",
    "    return decision_temporal\n",
    "print (decision(32,500,\"i3\",732))\n",
    "print (decision(32,444,\"i3\",700))\n",
    "print (decision(32,500,\"i5\",700),\"\\n\", decision(32,500,\"i3\",801),\"\\n\",decision(60,500,\"i3\",799))"
   ]
  },
  {
   "cell_type": "code",
   "execution_count": 4,
   "id": "0c87dfbd-9023-43ff-bfc7-81755d3e82ae",
   "metadata": {},
   "outputs": [
    {
     "data": {
      "text/plain": [
       "[(0, 'Rafa'), (1, 'Pablo'), (2, 'Hugo')]"
      ]
     },
     "execution_count": 4,
     "metadata": {},
     "output_type": "execute_result"
    }
   ],
   "source": [
    "nombres=[\"Rafa\",\"Pablo\",\"Hugo\"]\n",
    "list(enumerate(nombres))"
   ]
  },
  {
   "cell_type": "code",
   "execution_count": 5,
   "id": "ab91437c-0719-4ca5-85ca-f0f685c98999",
   "metadata": {},
   "outputs": [
    {
     "name": "stdout",
     "output_type": "stream",
     "text": [
      "Caso0:Rafa\n",
      "Caso1:Pablo\n",
      "Caso2:Hugo\n"
     ]
    }
   ],
   "source": [
    "for index,nombre in enumerate(nombres):\n",
    "    print(f\"Caso{index}:{nombre}\")"
   ]
  },
  {
   "cell_type": "code",
   "execution_count": 15,
   "id": "08bdb6b2-5333-4376-a42d-db398d6f257c",
   "metadata": {},
   "outputs": [],
   "source": [
    "def multiplica_divide(*args):\n",
    "    if len(args)== 0:\n",
    "        return(\"Error,añade al menos un valor\")\n",
    "    if len(args)==1:\n",
    "        return 1\n",
    "    resultado=1\n",
    "    for i in args[:-1]:\n",
    "        resultado=resultado*i\n",
    "    resultado=resultado/args[-1]\n",
    "    return resultado\n",
    " "
   ]
  },
  {
   "cell_type": "code",
   "execution_count": 17,
   "id": "4a8dc77e-839a-4a89-b6d2-1c3d652cd7e2",
   "metadata": {},
   "outputs": [
    {
     "name": "stdout",
     "output_type": "stream",
     "text": [
      "1.0\n",
      "1\n",
      "Error,añade al menos un valor\n"
     ]
    }
   ],
   "source": [
    "print(multiplica_divide(2,2,4))\n",
    "print(multiplica_divide(2))\n",
    "print(multiplica_divide())"
   ]
  },
  {
   "cell_type": "code",
   "execution_count": 18,
   "id": "01899b35-3edd-44c7-a008-e0806c761f3b",
   "metadata": {},
   "outputs": [],
   "source": [
    "def operacion (*args, div):\n",
    "    resultado=1\n",
    "    for i in args:\n",
    "        resultado=resultado*i\n",
    "    resultado=resultado/div\n",
    "    return resultado\n",
    "    "
   ]
  },
  {
   "cell_type": "code",
   "execution_count": 19,
   "id": "9b7a2572-d834-40d9-bce6-201dd641baab",
   "metadata": {},
   "outputs": [
    {
     "data": {
      "text/plain": [
       "2.4"
      ]
     },
     "execution_count": 19,
     "metadata": {},
     "output_type": "execute_result"
    }
   ],
   "source": [
    "operacion(2,3,1,2, div=5)"
   ]
  },
  {
   "cell_type": "code",
   "execution_count": null,
   "id": "3c09faf3-6676-4276-9d23-3fe420d5b42a",
   "metadata": {},
   "outputs": [],
   "source": []
  }
 ],
 "metadata": {
  "kernelspec": {
   "display_name": "Python 3 (ipykernel)",
   "language": "python",
   "name": "python3"
  },
  "language_info": {
   "codemirror_mode": {
    "name": "ipython",
    "version": 3
   },
   "file_extension": ".py",
   "mimetype": "text/x-python",
   "name": "python",
   "nbconvert_exporter": "python",
   "pygments_lexer": "ipython3",
   "version": "3.10.11"
  }
 },
 "nbformat": 4,
 "nbformat_minor": 5
}
