{
  "cells": [
    {
      "cell_type": "markdown",
      "metadata": {
        "id": "view-in-github",
        "colab_type": "text"
      },
      "source": [
        "<a href=\"https://colab.research.google.com/github/Rafacercos/ONLINE_DS_THEBRIDGE_RAFACERCOS/blob/main/Parte_2_P%C3%ADldora_8_Jupyter_Notebook_DS_01_01_01_N02_V10.ipynb\" target=\"_parent\"><img src=\"https://colab.research.google.com/assets/colab-badge.svg\" alt=\"Open In Colab\"/></a>"
      ]
    },
    {
      "cell_type": "markdown",
      "metadata": {
        "id": "xItaI1NfJ0RQ"
      },
      "source": [
        "<img src = \"./img/TheBridge_logo_RGB_color.jpg\" width = 300>"
      ]
    },
    {
      "cell_type": "markdown",
      "metadata": {
        "id": "c1l-p1XLJ0RS"
      },
      "source": [
        "# Markdown (II)\n",
        "\n"
      ]
    },
    {
      "cell_type": "markdown",
      "metadata": {
        "id": "8J3Gp0LjJ0RT"
      },
      "source": [
        "## 6. Saltos de Línea\n",
        "Para poder separar párrafos y líneas en una misma celda, Markdown es un poco especial. No detecta los saltos de línea tal cual. Tenemos que indicarselo de nuevo con una \"marca\"."
      ]
    },
    {
      "cell_type": "markdown",
      "source": [
        "\"hola buenos dias\"\n",
        "\"Como estas\"\n"
      ],
      "metadata": {
        "id": "iK5ZSBWxPGrG"
      }
    },
    {
      "cell_type": "markdown",
      "metadata": {
        "id": "pP_LWoRzJ0RU"
      },
      "source": [
        "La marca para indicarle a Markdown que debe considerar una línea nueva son dos espacios seguidos."
      ]
    },
    {
      "cell_type": "markdown",
      "source": [
        "\"Hola\"   \n",
        " \"que tal\""
      ],
      "metadata": {
        "id": "PQ6913r-PVLv"
      }
    },
    {
      "cell_type": "markdown",
      "metadata": {
        "id": "FG9Dhq-YJ0RV"
      },
      "source": [
        "## 7. Listas\n",
        "Hay dos opciones. **Listas ordenadas o sin ordenar**. Si queremos listas ordenadas, simplemente usamos números"
      ]
    },
    {
      "cell_type": "markdown",
      "metadata": {
        "id": "-bqWmXTGJ0RV"
      },
      "source": [
        "1. Pan\n",
        "2. Sal\n",
        "3. macarrones"
      ]
    },
    {
      "cell_type": "markdown",
      "metadata": {
        "id": "Tp3UhabCJ0RV"
      },
      "source": [
        "Lista no ordenada"
      ]
    },
    {
      "cell_type": "markdown",
      "metadata": {
        "id": "JCJHIp09J0RW"
      },
      "source": [
        "* mango\n",
        "* platano\n",
        "- fresas\n",
        "+ yogur"
      ]
    },
    {
      "cell_type": "markdown",
      "metadata": {
        "id": "uICluCXNJ0RW"
      },
      "source": [
        "## 8. Código de Python\n",
        "Es otra manera de enseñar código. Se suele usar cuando lo único que quieres es mostrar un fragmento de código, pero sin ejecutarlo\n"
      ]
    },
    {
      "cell_type": "markdown",
      "metadata": {
        "id": "rPJVJPnAJ0RW"
      },
      "source": [
        "``` Python\n",
        "variable= \"esto es una variable\"\n",
        "```"
      ]
    },
    {
      "cell_type": "markdown",
      "metadata": {
        "id": "EemkLBneJ0RW"
      },
      "source": [
        "## 9. Líneas de separación\n",
        "Para separar secciones utilizamos líneas horizontales. Hay varias opciones en markdown para insertar una lína horizontal. En este ejemplo se usa o asteriscos o guiones.\n"
      ]
    },
    {
      "cell_type": "markdown",
      "source": [
        "***\n",
        "---"
      ],
      "metadata": {
        "id": "8YXZtG8rRwHG"
      }
    },
    {
      "cell_type": "markdown",
      "metadata": {
        "id": "lHk2ld3cJ0RW"
      },
      "source": [
        "## 10. Links y enlaces\n",
        "Para crear `enlaces externos`, a páginas web, se usa la sintaxis `[ enlace ] (web)`\n",
        "\n",
        "Primero con los links a internet, en la parte de enlace [RODEA ENLACE] pon el identificador que quieras, y entre paréntesis el link como aquí [SEÑALA LA LINEA DE ABAJO]\n",
        "\n",
        "[enlace con texto cambiado](http://www.google.es)\n",
        "\n",
        "Y si lo vamos a usar mucho podemos definir un enlace que lo abrevie como se ve a continuación con mi_web\n",
        "\n",
        "Tambien podemos definir [un enlace][mi_web].\n",
        "\n",
        "A una [web][mi_web] a la que podemos referenciar mas adelante\n",
        "\n",
        "[mi_web]: http://www.google.es\n",
        "\n",
        "\n",
        "Por otro lado, podemos definir links que vayan a otras partes del Notebook, como por ejemplo a una cabecera concreta. Si haces clik en [este enlace](#Markdown-(II)), volverás al inicio del notebook.Con [este otro enlace](#6.-Saltos-de-Línea) vas al primer apartado.\n",
        "\n",
        "¿Cómo linkarlos? Copiamos el nombre de la cabecera, sustituimos espacios por guiones, le añadimos en hashtag al principio, y eso es lo que va dentro de los paréntesis."
      ]
    },
    {
      "cell_type": "markdown",
      "metadata": {
        "id": "TwLNTL78J0RX"
      },
      "source": [
        "## 11. Imágenes\n",
        "Si tenemos una imagen en el ordenador, en general le vamos a decir a Markdown que apunte a esa imagen. Lo normal es tener todas las imagenes agrupadas en una carpeta dentro de tu repositorio.\n",
        "\n",
        "Usamos la sintaxis ![ nombre cualqueira](ruta de la imagen)."
      ]
    },
    {
      "cell_type": "markdown",
      "metadata": {
        "id": "080BXbhOJ0RX"
      },
      "source": [
        "La imagen tiene que estar en la misma carpeta que este notebook, debido a la sintaxis `./imagen.png`. Con el `./` Jupyter entiende que tiene que buscar en la carpeta de este notebook:\n",
        "\n",
        "1. `./imagen.png` si la imagen esta en el mismo directorio donde está este Notebook\n",
        "2. `./img/imagen.png` si dentro del directorio donde se encuentra este Notebook, hay una carpeta llamada \"img\", y dentro se encuentra la imagen."
      ]
    },
    {
      "cell_type": "markdown",
      "metadata": {
        "id": "cbE1xFFlJ0RX"
      },
      "source": [
        "#### Imagen en el mismo directorio que el Notebook"
      ]
    },
    {
      "cell_type": "markdown",
      "metadata": {
        "id": "_RBoMx6PJ0RX"
      },
      "source": [
        "![descarga.png](data:image/png;base64,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)"
      ]
    },
    {
      "cell_type": "markdown",
      "metadata": {
        "id": "eCuw3-7dJ0RX"
      },
      "source": [
        "#### Imagen en el directorio \"img\""
      ]
    },
    {
      "cell_type": "markdown",
      "metadata": {
        "id": "RoJIdjcPJ0RX"
      },
      "source": []
    },
    {
      "cell_type": "markdown",
      "metadata": {
        "id": "BttpYVIjJ0RX"
      },
      "source": [
        "Otra forma de cargar imágenes controlando además el tamaño es emplear la siguiente sintaxis"
      ]
    },
    {
      "cell_type": "markdown",
      "metadata": {
        "id": "LDYyW6aOJ0RY"
      },
      "source": [
        "\n"
      ]
    },
    {
      "cell_type": "markdown",
      "metadata": {
        "id": "r0FbarAKJ0RY"
      },
      "source": [
        "En las versiones actuales puedes copiar y pegar una imagen en una celda Markdown y esta se adjunta al notebook. Prueba a hacerlo con alguna imagen de las que tengas en tu ordenador."
      ]
    },
    {
      "cell_type": "markdown",
      "metadata": {
        "id": "kwqoEbXDJ0RY"
      },
      "source": [
        "## 12. Documentación\n",
        "Hay muchísimas guías para escribir markdown en Internet. Con lo visto en este notebook tienes más que de sobra para darle color y forma a tus Notebooks de Python... De Python, de R, documentación para GitHub, tu blog de data scientist... Como te dije al principio, markdown es un lenguaje muy popular al que se le puede sacar mucho jugo.\n",
        "\n",
        "Aun así, si quieres aprender más de este lenguaje, te dejo algunos enlaces interesantes.\n",
        "\n",
        "[Este](https://www.markdownguide.org/basic-syntax/)\n",
        "\n",
        "[Este otro](https://daringfireball.net/projects/markdown/syntax)\n",
        "\n",
        "[Y este tambien](https://medium.com/analytics-vidhya/the-ultimate-markdown-guide-for-jupyter-notebook-d5e5abf728fd)"
      ]
    }
  ],
  "metadata": {
    "kernelspec": {
      "display_name": "Python 3 (ipykernel)",
      "language": "python",
      "name": "python3"
    },
    "language_info": {
      "codemirror_mode": {
        "name": "ipython",
        "version": 3
      },
      "file_extension": ".py",
      "mimetype": "text/x-python",
      "name": "python",
      "nbconvert_exporter": "python",
      "pygments_lexer": "ipython3",
      "version": "3.11.5"
    },
    "vscode": {
      "interpreter": {
        "hash": "252189e587d1e2aeba4a06e91fa71896c7a7f6e22e918b9407c7cde4ef2d5985"
      }
    },
    "colab": {
      "provenance": [],
      "include_colab_link": true
    }
  },
  "nbformat": 4,
  "nbformat_minor": 0
}