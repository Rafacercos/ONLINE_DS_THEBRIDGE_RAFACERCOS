{
 "cells": [
  {
   "attachments": {},
   "cell_type": "markdown",
   "metadata": {},
   "source": [
    "## Ejercicio descargas"
   ]
  },
  {
   "attachments": {},
   "cell_type": "markdown",
   "metadata": {},
   "source": [
    "Python es un lenguaje de propósito general, por lo que podemos desarrollar otros programas,\n",
    "aparte de ciencia de datos, que nos permitan montar dashboards, crear APIs o automatizar\n",
    "procesos. En este caso vas a automatizar un proceso, en el que tendrás que desarrollar un\n",
    "script que ordene todos los archivos de una carpeta, dependiendo de la extensión de los\n",
    "mismos.\n",
    "\n",
    "\n",
    "El objetivo es ordenar la típica carpeta de cajón desastre donde se nos acumulan archivos de\n",
    "todos los formatos como: imágenes, words, presentaciones, excels, ejecutables, zips, etc... Y\n",
    "que no vamos a ir viendo archivo a archivo, ordenándolos.... La solución suele ser eliminarlo\n",
    "todo. Vamos a intentar no tener que llegar a eso, ordenando los ficheros automáticamente en\n",
    "carpetas y revisar las que nos interesen. La típica carpeta donde aplicaríamos este programa es\n",
    "la de “Descargas”, donde se suelen acumular muchos archivos temporales.\n",
    "\n",
    "\n",
    "Por tanto, **el programa tiene que guardar los archivos de la carpeta “Descargas” (o cualquier\n",
    "otra donde acumules mucho archivo temporal) en los siguientes directorios dentro de la\n",
    "propia carpeta “Descargas”**:\n",
    "- Imagenes\n",
    "- Documentos\n",
    "- Software\n",
    "- Otros\n",
    "\n",
    "Cada vez que ejecutes el script, automáticamente se ordenarán todos los archivos en sus\n",
    "correspondientes carpetas.\n"
   ]
  },
  {
   "cell_type": "code",
   "execution_count": 42,
   "metadata": {},
   "outputs": [],
   "source": [
    "doc_types = ('.doc', '.docx', '.txt', '.pdf', '.xls', '.ppt', '.xlsx', '.pptx')\n",
    "img_types = ('.jpg', '.jpeg', '.png', '.svg', '.gif')\n",
    "software_types = ('.exe', '.py','.ipynb')"
   ]
  },
  {
   "attachments": {},
   "cell_type": "markdown",
   "metadata": {},
   "source": [
    "### Crea un un programa con el flujo principal y encapsúlalo en funciones."
   ]
  },
  {
   "cell_type": "code",
   "execution_count": null,
   "metadata": {},
   "outputs": [
    {
     "data": {
      "text/plain": [
       "'C:\\\\Users\\\\rafac\\\\pruebas'"
      ]
     },
     "execution_count": 32,
     "metadata": {},
     "output_type": "execute_result"
    }
   ],
   "source": [
    "import os\n",
    "import shutil\n",
    "os.getcwd()"
   ]
  },
  {
   "cell_type": "code",
   "execution_count": 43,
   "metadata": {},
   "outputs": [],
   "source": [
    "carpeta = \"downloads\""
   ]
  },
  {
   "cell_type": "code",
   "execution_count": 44,
   "metadata": {},
   "outputs": [],
   "source": [
    "def cambiar_carpeta(carpeta):\n",
    "    os.chdir(f\"C:/Users/rafac/{carpeta}\")\n",
    "    return os.getcwd()"
   ]
  },
  {
   "cell_type": "code",
   "execution_count": 45,
   "metadata": {},
   "outputs": [
    {
     "data": {
      "text/plain": [
       "'C:\\\\Users\\\\rafac\\\\downloads'"
      ]
     },
     "execution_count": 45,
     "metadata": {},
     "output_type": "execute_result"
    }
   ],
   "source": [
    "cambiar_carpeta(carpeta)"
   ]
  },
  {
   "cell_type": "code",
   "execution_count": 33,
   "metadata": {},
   "outputs": [
    {
     "data": {
      "text/plain": [
       "'C:\\\\Users\\\\rafac\\\\pruebas'"
      ]
     },
     "execution_count": 33,
     "metadata": {},
     "output_type": "execute_result"
    }
   ],
   "source": [
    "os.chdir(\"C:/Users/rafac/pruebas\")\n",
    "os.getcwd()"
   ]
  },
  {
   "cell_type": "code",
   "execution_count": 46,
   "metadata": {},
   "outputs": [],
   "source": [
    "def crear_directorios():\n",
    "    return os.mkdir(\"Documentos\"),os.mkdir(\"Imagenes\"),os.mkdir(\"Software\"),os.mkdir(\"Otros\")\n"
   ]
  },
  {
   "cell_type": "code",
   "execution_count": 35,
   "metadata": {},
   "outputs": [],
   "source": [
    "os.mkdir(\"Documentos\")\n",
    "os.mkdir(\"Imagenes\")\n",
    "os.mkdir(\"Software\")\n",
    "os.mkdir(\"Otros\")\n"
   ]
  },
  {
   "cell_type": "code",
   "execution_count": 36,
   "metadata": {},
   "outputs": [
    {
     "name": "stdout",
     "output_type": "stream",
     "text": [
      "['2021-05-07 (2).png', 'Documentos', 'domenica.jpg', 'Ejercicios_Numpy_II.ipynb', 'etología tema 7 largo.pdf', 'Imagenes', 'noticias.py', 'Otros', 'PorraCarrefourQatar2022Rafa.xlsx', 'Software', 'Titulo famila numerosa .jpg']\n"
     ]
    }
   ],
   "source": [
    "print(os.listdir())"
   ]
  },
  {
   "cell_type": "code",
   "execution_count": 39,
   "metadata": {},
   "outputs": [
    {
     "name": "stdout",
     "output_type": "stream",
     "text": [
      "2021-05-07 (2).png\n",
      ".png\n",
      "Documentos\n",
      "\n",
      "domenica.jpg\n",
      ".jpg\n",
      "Ejercicios_Numpy_II.ipynb\n",
      ".ipynb\n",
      "etología tema 7 largo.pdf\n",
      ".pdf\n",
      "Imagenes\n",
      "\n",
      "noticias.py\n",
      ".py\n",
      "Otros\n",
      "\n",
      "PorraCarrefourQatar2022Rafa.xlsx\n",
      ".xlsx\n",
      "Software\n",
      "\n",
      "Titulo famila numerosa .jpg\n",
      ".jpg\n"
     ]
    }
   ],
   "source": [
    "for archivo in os.listdir():\n",
    "    print(archivo)\n",
    "    print(os.path.splitext(archivo)[1])"
   ]
  },
  {
   "cell_type": "code",
   "execution_count": 47,
   "metadata": {},
   "outputs": [],
   "source": [
    "def ordenar():\n",
    "    for archivo in os.listdir():\n",
    "        if '.' not in archivo:\n",
    "            continue\n",
    "        elif os.path.splitext(archivo)[1] in doc_types:\n",
    "            destino = f\"./Documentos/{archivo}\"\n",
    "            shutil.move (archivo,destino)\n",
    "        elif os.path.splitext(archivo)[1] in img_types:\n",
    "            destino = f\"./Imagenes/{archivo}\"\n",
    "            shutil.move (archivo,destino)\n",
    "        elif os.path.splitext(archivo)[1] in software_types:\n",
    "            destino = f\"./Software/{archivo}\"\n",
    "            shutil.move (archivo,destino)\n",
    "        else:\n",
    "            destino = f\"./Otros/{archivo}\"\n",
    "            shutil.move (archivo,destino)\n",
    "    return os.listdir()"
   ]
  },
  {
   "cell_type": "code",
   "execution_count": 40,
   "metadata": {},
   "outputs": [],
   "source": [
    "for archivo in os.listdir():\n",
    "    if '.' not in archivo:\n",
    "        continue\n",
    "    elif os.path.splitext(archivo)[1] in doc_types:\n",
    "        destino = f\"./Documentos/{archivo}\"\n",
    "        shutil.move (archivo,destino)\n",
    "    elif os.path.splitext(archivo)[1] in img_types:\n",
    "        destino = f\"./Imagenes/{archivo}\"\n",
    "        shutil.move (archivo,destino)\n",
    "    elif os.path.splitext(archivo)[1] in software_types:\n",
    "        destino = f\"./Software/{archivo}\"\n",
    "        shutil.move (archivo,destino)\n",
    "    else:\n",
    "        destino = f\"./Otros/{archivo}\"\n",
    "        shutil.move (archivo,destino)\n",
    "\n",
    "        \n",
    "\n",
    "   "
   ]
  },
  {
   "cell_type": "code",
   "execution_count": 41,
   "metadata": {},
   "outputs": [
    {
     "name": "stdout",
     "output_type": "stream",
     "text": [
      "['Documentos', 'Imagenes', 'Otros', 'Software']\n"
     ]
    }
   ],
   "source": [
    "print(os.listdir())"
   ]
  },
  {
   "cell_type": "code",
   "execution_count": null,
   "metadata": {},
   "outputs": [],
   "source": []
  }
 ],
 "metadata": {
  "kernelspec": {
   "display_name": "Python 3",
   "language": "python",
   "name": "python3"
  },
  "language_info": {
   "codemirror_mode": {
    "name": "ipython",
    "version": 3
   },
   "file_extension": ".py",
   "mimetype": "text/x-python",
   "name": "python",
   "nbconvert_exporter": "python",
   "pygments_lexer": "ipython3",
   "version": "3.10.11"
  },
  "orig_nbformat": 4
 },
 "nbformat": 4,
 "nbformat_minor": 2
}
