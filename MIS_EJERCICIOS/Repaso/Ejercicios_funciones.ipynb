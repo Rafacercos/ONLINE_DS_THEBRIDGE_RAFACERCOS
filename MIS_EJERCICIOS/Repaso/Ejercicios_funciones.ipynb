{
 "cells": [
  {
   "cell_type": "markdown",
   "metadata": {},
   "source": [
    "![imagen](./img/ejercicios.png)"
   ]
  },
  {
   "cell_type": "markdown",
   "metadata": {},
   "source": [
    "# Ejercicios funciones\n",
    "## Ejercicio 1\n",
    "Escribe una función que convierta números del 1 al 7 en nombres de los dias de la semana. La función constará de un único argumento numérico y una salida de tipo string"
   ]
  },
  {
   "cell_type": "code",
   "execution_count": 3,
   "metadata": {},
   "outputs": [
    {
     "data": {
      "text/plain": [
       "'Sabado'"
      ]
     },
     "execution_count": 3,
     "metadata": {},
     "output_type": "execute_result"
    }
   ],
   "source": [
    "semana = [\"Lunes\",\"Martes\", \"Miercoles\",\"Jueves\",\"Viernes\",\"Sabado\",\"Domingo\"]\n",
    "def numeros_semana(numero):\n",
    "    y = \"\"\n",
    "    if numero == 1:\n",
    "        y = (\"Lunes\")\n",
    "    elif numero == 2:\n",
    "        y= (\"Martes\")\n",
    "    elif numero == 3:\n",
    "        y= (\"Miercoles\")\n",
    "    elif numero == 4:\n",
    "        y= (\"jueves\")\n",
    "    elif numero == 5:\n",
    "        y = (\"Viernes\")\n",
    "    elif numero == 6:\n",
    "        y = (\"Sabado\")\n",
    "    elif numero == 7:\n",
    "        y = (\"Domingo\")\n",
    "    else:\n",
    "        y = (\"error, no es un número del 1 al 7\")\n",
    "    return y \n",
    "    \n",
    "numeros_semana(6)\n",
    "\n",
    "\n"
   ]
  },
  {
   "cell_type": "code",
   "execution_count": 20,
   "metadata": {},
   "outputs": [
    {
     "data": {
      "text/plain": [
       "'Viernes'"
      ]
     },
     "execution_count": 20,
     "metadata": {},
     "output_type": "execute_result"
    }
   ],
   "source": [
    "\n",
    "def dias_semana(numero):\n",
    "    semana = [\"Lunes\",\"Martes\", \"Miercoles\",\"Jueves\",\"Viernes\",\"Sabado\",\"Domingo\"]\n",
    "    if numero> 7:\n",
    "        resultado = print(\"error, el numero debe estar entre el 1 y el 7\")\n",
    "    for i in range(1,8):\n",
    "        if i == numero:\n",
    "            resultado = semana [i -1]\n",
    "    return resultado\n",
    "\n",
    "dias_semana(5)"
   ]
  },
  {
   "cell_type": "markdown",
   "metadata": {},
   "source": [
    "## Ejercicio 2\n",
    "En el ejercicio 8 de flujos de control, creábamos una pirámide invertida de números desde el 5. Crea una función que replique el comportamiento de la pirámide, y utiliza un único parámetro de entrada de la función para determinar el número de filas de la pirámide."
   ]
  },
  {
   "cell_type": "code",
   "execution_count": 24,
   "metadata": {},
   "outputs": [
    {
     "name": "stdout",
     "output_type": "stream",
     "text": [
      "9 8 7 6 5 4 3 2 1\n",
      "8 7 6 5 4 3 2 1\n",
      "7 6 5 4 3 2 1\n",
      "6 5 4 3 2 1\n",
      "5 4 3 2 1\n",
      "4 3 2 1\n",
      "3 2 1\n",
      "2 1\n",
      "1\n",
      "1\n"
     ]
    }
   ],
   "source": [
    "def piramide(numero_filas):\n",
    "    for i in range(numero_filas,0,-1):\n",
    "         print(*list(range(i,0,-1)))\n",
    "    return print(*list(range(i,0,-1)))\n",
    "    \n",
    "    \n",
    "\n",
    "\n",
    "piramide(9)\n",
    "\n",
    "\n"
   ]
  },
  {
   "cell_type": "markdown",
   "metadata": {},
   "source": [
    "## Ejercicio 3\n",
    "Escribe una función que compare dos números. La función tiene dos argumentos y hay tres salidas posibles: que sean iguales, que el primero sea  mayor que el segundo, o que el segundo sea mayor que el primero"
   ]
  },
  {
   "cell_type": "code",
   "execution_count": 25,
   "metadata": {},
   "outputs": [
    {
     "name": "stdout",
     "output_type": "stream",
     "text": [
      "El numero 6 es mayor que 2\n"
     ]
    }
   ],
   "source": [
    "def comparacion (numero_1,numero_2):\n",
    "    if numero_1 == numero_2:\n",
    "        resultado = print(\"Son iguales\")\n",
    "    elif numero_1 > numero_2:\n",
    "        resultado = print(f\"El numero {numero_1} es mayor que {numero_2}\")\n",
    "    elif numero_1< numero_2:\n",
    "        resultado = print(f\"El numero {numero_2} es mayor que {numero_1}\")\n",
    "    return resultado\n",
    "\n",
    "\n",
    "comparacion(6,2)"
   ]
  },
  {
   "attachments": {},
   "cell_type": "markdown",
   "metadata": {},
   "source": [
    "## Ejercicio 4\n",
    "Escribe una función que sea un contador de letras. En el primer argumento tienes que introducir un texto, y el segundo que sea una letra que contar. La función tiene que devolver un entero con el número de veces que aparece esa letra, tanto mayúscula, como minúscula"
   ]
  },
  {
   "cell_type": "code",
   "execution_count": 8,
   "metadata": {},
   "outputs": [
    {
     "data": {
      "text/plain": [
       "2"
      ]
     },
     "execution_count": 8,
     "metadata": {},
     "output_type": "execute_result"
    }
   ],
   "source": [
    "\n",
    "def contador_letras(frase, letra):\n",
    "    contador = 0\n",
    "    for i in frase.lower():\n",
    "        if i == letra.lower():\n",
    "            contador+=1\n",
    "        \n",
    "    return contador\n",
    "\n",
    "\n",
    "contador_letras(\"hoLa que tal\", \"L\")\n",
    "\n",
    " \n",
    "\n",
    "\n"
   ]
  },
  {
   "cell_type": "markdown",
   "metadata": {},
   "source": [
    "## Ejercicio 5\n",
    "Escribe una función que tenga un único argumento, un string. La salida de la función tiene que ser un diccionario con el conteo de todas las letras de ese string, siendo la clave la letra y el valor el conteo."
   ]
  },
  {
   "cell_type": "code",
   "execution_count": 9,
   "metadata": {},
   "outputs": [
    {
     "data": {
      "text/plain": [
       "{'h': 1, 'o': 1, 'l': 2, 'a': 2, ' ': 2, 'q': 1, 'u': 1, 'e': 1, 't': 1}"
      ]
     },
     "execution_count": 9,
     "metadata": {},
     "output_type": "execute_result"
    }
   ],
   "source": [
    "def dict_string(string_1):\n",
    "    lista_vacia = []\n",
    "    for i in string_1.lower():\n",
    "        lista_vacia.append(i)\n",
    "        lista_vacia.append (contador_letras(string_1,i))\n",
    "    resultado = dict(zip(lista_vacia[::2],lista_vacia[1::2]))\n",
    "    return resultado\n",
    "dict_string(\"Hola que tal\")"
   ]
  },
  {
   "cell_type": "code",
   "execution_count": null,
   "metadata": {},
   "outputs": [],
   "source": [
    "for i in string_1.lower():\n",
    "        lista_vacia.append(i)\n",
    "        lista_vacia.append (contador_letras(string_1,i))\n",
    "    resultado = dict(zip(lista_vacia[::2],lista_vacia[1::2]))\n",
    "    return resultado"
   ]
  },
  {
   "cell_type": "markdown",
   "metadata": {},
   "source": [
    "## Ejercicio 6\n",
    "Escribir una función que añada o elimine elementos en una lista. La función necesita los siguientes argumentos:\n",
    "* lista: la lista donde se añadirán o eliminarán los elementos\n",
    "* comando: \"add\" o \"remove\"\n",
    "* elemento: Por defecto es None.\n",
    "\n",
    "Tendrá como salida la lista"
   ]
  },
  {
   "cell_type": "code",
   "execution_count": null,
   "metadata": {},
   "outputs": [
    {
     "data": {
      "text/plain": [
       "['Hola', 'que', 'tal', 'juanito']"
      ]
     },
     "execution_count": 3,
     "metadata": {},
     "output_type": "execute_result"
    }
   ],
   "source": [
    "\n",
    "def añadir_eliminar (lista, comando,elemento=None):\n",
    "    lista_1= lista.split()\n",
    "    lista_2 = lista_1.copy()\n",
    "    for i in lista_1:\n",
    "        if comando == \"remove\" and i == elemento:\n",
    "            lista_2.remove(i)\n",
    "        elif comando == \"add\":\n",
    "            lista_2.append(elemento)\n",
    "            break\n",
    "    \n",
    "        \n",
    "    return lista_2\n",
    "\n",
    "añadir_eliminar(\"Hola que tal\", \"add\", \"juanito\")"
   ]
  },
  {
   "cell_type": "markdown",
   "metadata": {},
   "source": [
    "## Ejercicio 7\n",
    "Crea una función que reciba un número arbitrario de palabras, y devuelva una frase completa, separando las palabras con espacios."
   ]
  },
  {
   "cell_type": "code",
   "execution_count": 11,
   "metadata": {},
   "outputs": [
    {
     "data": {
      "text/plain": [
       "'hola encantado de conocerte'"
      ]
     },
     "execution_count": 11,
     "metadata": {},
     "output_type": "execute_result"
    }
   ],
   "source": [
    "def creador_frases(*args):\n",
    "    for i in args:\n",
    "        frase = \" \".join(args)\n",
    "    return frase\n",
    "\n",
    "creador_frases(\"hola\",\"encantado\",\"de\", \"conocerte\")"
   ]
  },
  {
   "cell_type": "markdown",
   "metadata": {},
   "source": [
    "## Ejercicio 8\n",
    "Escribe un programa que obtenga el enésimo número de la [serie de Fibonacci](https://es.wikipedia.org/wiki/Sucesi%C3%B3n_de_Fibonacci). Tienes que crear una función recursiva con un único argumento.\n",
    "\n",
    "```Python\n",
    "fibonacci(2) = 1\n",
    "fibonacci(4) = 3\n",
    "fibonacci(5) = 5\n",
    "fibonacci(8) = 21\n",
    "```"
   ]
  },
  {
   "cell_type": "markdown",
   "metadata": {},
   "source": [
    "fibonacci(n) = fibonacci(n-1) + fibonacci(n-2)"
   ]
  },
  {
   "cell_type": "code",
   "execution_count": 2,
   "metadata": {},
   "outputs": [
    {
     "data": {
      "text/plain": [
       "0"
      ]
     },
     "execution_count": 2,
     "metadata": {},
     "output_type": "execute_result"
    }
   ],
   "source": [
    "def fibonacci(n):\n",
    "    if n == 0 or n == 1:\n",
    "        return  n #No valdría una variable resultado y decirle al final de la función que devuelva resultado?\n",
    "    return  fibonacci(n -1) + fibonacci(n-2)\n",
    "\n",
    "fibonacci(0)\n",
    "\n",
    "     \n"
   ]
  },
  {
   "cell_type": "code",
   "execution_count": null,
   "metadata": {},
   "outputs": [],
   "source": [
    "def fibonacci_2"
   ]
  },
  {
   "attachments": {},
   "cell_type": "markdown",
   "metadata": {},
   "source": [
    "## Ejercicio 9\n",
    "Define en una única celda las siguientes funciones:\n",
    "* Función que calcule el área de un cuadrado\n",
    "* Función que calcule el área de un triángulo\n",
    "* Función que calcule el área de un círculo\n",
    "\n",
    "En otra celda, calcular el area de:\n",
    "* Dos círculos de radio 10 + un triángulo de base 3 y altura 7\n",
    "* Un cuadrado de lado = 10 + 3 círculos (uno de radio = 4 y los otros dos de radio = 6) + 5 triángulos de base = 2 + altura = 4"
   ]
  },
  {
   "cell_type": "code",
   "execution_count": 5,
   "metadata": {},
   "outputs": [],
   "source": [
    "import math\n",
    "def area_cuadrado(lado):\n",
    "    resultado= (lado)**2\n",
    "    return resultado\n",
    "def area_triangulo(base,altura):\n",
    "    resultado = (base* altura)/2\n",
    "    return resultado\n",
    "def area_circulo(radio):\n",
    "    resultado = math.pi * (radio**2)\n",
    "    return resultado"
   ]
  },
  {
   "cell_type": "code",
   "execution_count": 8,
   "metadata": {},
   "outputs": [
    {
     "name": "stdout",
     "output_type": "stream",
     "text": [
      "638.8185307179587\n",
      "396.4601535159018\n"
     ]
    }
   ],
   "source": [
    "Area_total_1=(area_circulo(10)) *2 + area_triangulo(3,7)\n",
    "print(Area_total_1)\n",
    "Area_total_2 = area_cuadrado(10) +(area_circulo(6))*2 + area_circulo(4) + 5*(area_triangulo(2,4))\n",
    "print(Area_total_2)"
   ]
  },
  {
   "cell_type": "markdown",
   "metadata": {},
   "source": [
    "## Ejercicio 10\n",
    "\n",
    "Guarda las funciones de estos ejercicios en un fichero llamado `funciones.py` e importalas desde este jupyter notebook para probar que puedes hacer uso de ellas."
   ]
  },
  {
   "cell_type": "code",
   "execution_count": 8,
   "metadata": {},
   "outputs": [],
   "source": [
    "from utils import *\n",
    "import math"
   ]
  },
  {
   "cell_type": "code",
   "execution_count": 10,
   "metadata": {},
   "outputs": [
    {
     "name": "stdout",
     "output_type": "stream",
     "text": [
      "16\n",
      "246.74011002723395\n",
      "3\n",
      "hoy estoy cansado\n"
     ]
    }
   ],
   "source": [
    "print(area_cuadrado(4))\n",
    "print(area_circulo(5))\n",
    "print(fibonacci(4))\n",
    "print(creador_frases(\"hoy\", \"estoy\", \"cansado\"))"
   ]
  },
  {
   "cell_type": "code",
   "execution_count": null,
   "metadata": {},
   "outputs": [],
   "source": []
  }
 ],
 "metadata": {
  "kernelspec": {
   "display_name": "Python 3",
   "language": "python",
   "name": "python3"
  },
  "language_info": {
   "codemirror_mode": {
    "name": "ipython",
    "version": 3
   },
   "file_extension": ".py",
   "mimetype": "text/x-python",
   "name": "python",
   "nbconvert_exporter": "python",
   "pygments_lexer": "ipython3",
   "version": "3.10.11"
  }
 },
 "nbformat": 4,
 "nbformat_minor": 4
}
