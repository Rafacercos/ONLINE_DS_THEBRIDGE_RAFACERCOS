{
 "cells": [
  {
   "attachments": {},
   "cell_type": "markdown",
   "metadata": {},
   "source": [
    "![imagen](./img/ejercicios.png)\n",
    "# Markdown\n",
    "\n",
    "## Ejercicio 1\n",
    "Vamos a aplicar los conocimientos adquiridos en este notebook, intentando reproducir la siguiente imagen en una celda markdown con su sintaxis. En el link va la página: https://www.kaggle.com/\n",
    "\n",
    "**TIP**: en [este enlace](https://www.markdownguide.org/basic-syntax/) tienes más ejemplos, por si te atascas con algo :)\n"
   ]
  },
  {
   "cell_type": "markdown",
   "metadata": {},
   "source": [
    "![imagen](./img/ejercicio_markdown.png)"
   ]
  },
  {
   "cell_type": "markdown",
   "metadata": {},
   "source": []
  },
  {
   "attachments": {},
   "cell_type": "markdown",
   "metadata": {},
   "source": [
    "## Ejercicio 2\n",
    "Para este ejercicio vas a crear dos nuevos elementos que no hemos visto en la teoría, tendrás que buscar en google cómo hacer: una tabla y una fórmula. Busca en la web la sintaxis y replica ambos elementos."
   ]
  },
  {
   "cell_type": "markdown",
   "metadata": {},
   "source": [
    "<div style=\"text-align:center\"><img src=\"./img/md_ejercicio2.png\" /></div>"
   ]
  },
  {
   "cell_type": "markdown",
   "metadata": {
    "vscode": {
     "languageId": "plaintext"
    }
   },
   "source": [
    "\n",
    "| Column 1 | Column 2 | Column 3 |----------|\n",
    "|----------|----------|----------|----------|\n",
    "| Row 1    | Cell 2   | Cell 3   |----------|\n",
    "| Row 2    | Cell 5   | Cell 6   |----------|\n",
    "| Row 3    | Cell 8   | Cell 9   |----------|\n"
   ]
  },
  {
   "cell_type": "markdown",
   "metadata": {},
   "source": [
    "$`\\sqrt(3x-1) +(1+x)^2`$"
   ]
  },
  {
   "cell_type": "markdown",
   "metadata": {},
   "source": [
    "<center>\n",
    "\n",
    "| Ramp up | Data Analysis | Machine Learning | Data & Business |\n",
    "|----------|----------|----------|----------|\n",
    "| Python    | EDA   | Supervised   | Productivización   |\n",
    "| Estadística   | R   | Non supervised   | Storytelling   |\n",
    "| SQL    | Feat. Eng.   | Deep Learning   | API   |\n",
    "\n",
    "</center>"
   ]
  },
  {
   "cell_type": "markdown",
   "metadata": {},
   "source": [
    "<center>\n",
    "\n",
    "$\\sqrt{3x-1}+(1+x)^2$\n",
    "\n",
    "</center>"
   ]
  }
 ],
 "metadata": {
  "kernelspec": {
   "display_name": "Python 3",
   "language": "python",
   "name": "python3"
  },
  "language_info": {
   "codemirror_mode": {
    "name": "ipython",
    "version": 3
   },
   "file_extension": ".py",
   "mimetype": "text/x-python",
   "name": "python",
   "nbconvert_exporter": "python",
   "pygments_lexer": "ipython3",
   "version": "3.10.11"
  }
 },
 "nbformat": 4,
 "nbformat_minor": 4
}
