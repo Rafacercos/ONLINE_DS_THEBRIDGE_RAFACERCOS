{
 "cells": [
  {
   "cell_type": "markdown",
   "metadata": {},
   "source": [
    "![imagen](./img/ejercicios.png)"
   ]
  },
  {
   "cell_type": "markdown",
   "metadata": {},
   "source": [
    "# Ejercicios Python Basics I"
   ]
  },
  {
   "cell_type": "markdown",
   "metadata": {},
   "source": [
    "## Ejercicio 0\n",
    "Imprime por pantalla esta cita con el siguiente formato\n",
    "\n",
    "![imagen](./img/frase_Einstein.PNG)"
   ]
  },
  {
   "cell_type": "code",
   "execution_count": 9,
   "metadata": {},
   "outputs": [
    {
     "name": "stdout",
     "output_type": "stream",
     "text": [
      "¿Por qué esta magnífica tecnología científica,\n",
      "\t que ahorra trabajo y nos hace la vida más fácil,\n",
      " \t\t nos aporta tan poca felicidad?\n",
      "\t\t\t La respuesta es está, simplemente: porque aún no hemos aprendido a usarla con tino.\n",
      " \"Albert Einstein\"\n"
     ]
    }
   ],
   "source": [
    "print('¿Por qué esta magnífica tecnología científica,\\n\\t que ahorra trabajo y nos hace la vida más fácil,\\n \\t\\t nos aporta tan poca felicidad?\\n\\t\\t\\t La respuesta es está, simplemente: porque aún no hemos aprendido a usarla con tino.\\n \"Albert Einstein\"')"
   ]
  },
  {
   "cell_type": "markdown",
   "metadata": {},
   "source": [
    "## Ejercicio 1\n",
    "1. Escribe el nombre de la calle de tu domicilio en una variable\n",
    "2. Escribe el numero de la calle en otra\n",
    "3. Ciudad en una tercera\n",
    "4. Codigo postal en la cuarta variable\n",
    "5. Imprime las 4 variables concatenadas por pantalla\n",
    "6. Crea una quinta variable que concatene todas ellas\n",
    "7. Imprímela por pantalla"
   ]
  },
  {
   "cell_type": "code",
   "execution_count": 16,
   "metadata": {},
   "outputs": [
    {
     "name": "stdout",
     "output_type": "stream",
     "text": [
      "Vivo en la calle Averroes,en el número 3, en la ciudad de Madrid con el código postal 28007\n",
      "Vives en la calle Averroes en el número 3 en la ciudad de Madrid con el código postal 28007\n"
     ]
    }
   ],
   "source": [
    "calle= \"Averroes\"\n",
    "número_calle= 3\n",
    "ciudad = \"Madrid\"\n",
    "c_postal=28007\n",
    "print(f\"Vivo en la calle {calle},en el número {número_calle}, en la ciudad de {ciudad} con el código postal {c_postal}\")\n",
    "concatenación= \"Vives en la calle\"+ \" \"+ calle + \" \" +\"en el número\"+\" \" + str(número_calle)+\" \" +\"en la ciudad de\"+ \" \"+ciudad+\" \"+ \"con el código postal\"+\" \"+str(c_postal)\n",
    "print(concatenación)"
   ]
  },
  {
   "cell_type": "markdown",
   "metadata": {},
   "source": [
    "## Ejercicio 2\n",
    "Repite el ejercicio 1, pero pidiendo estos datos al usuario mediante un input(), imprimiendo a continuación la dirección completa"
   ]
  },
  {
   "cell_type": "code",
   "execution_count": 17,
   "metadata": {},
   "outputs": [
    {
     "name": "stdout",
     "output_type": "stream",
     "text": [
      "Madrid Averrroes 3 28007\n"
     ]
    }
   ],
   "source": [
    "calle_2=input (\"Inserta el nombre de tu calle\")\n",
    "numero_calle_2=input (\"Ahora, introduce el numero de tu casa\")\n",
    "ciudad_2=input(\"Añade la ciudad en la que vives\")\n",
    "c_postal_2=input(\"Por último, pon tu código postal\")\n",
    "dirección_completa= ciudad_2 +\" \"+calle_2 + \" \" +numero_calle_2 +\" \"+ c_postal_2\n",
    "print(dirección_completa)"
   ]
  },
  {
   "cell_type": "markdown",
   "metadata": {},
   "source": [
    "## Ejercicio 3\n",
    "¿Qué variables están mal escritas y por qué? Realiza primero tu hipótesis y luego ejecuta las variables para comprobarlo. En ese orden :)\n",
    "\n",
    "\n",
    "1. mi_variable = \"Economía\"\n",
    "2. otra_var = \"Ejercicio\n",
    "3. True = \"Ejercicio\"\n",
    "4. mi variab1e = \"Alpha\"\n",
    "5. import = 40\n",
    "6. 81mi_variable = \"Agua\"\n",
    "7. mi_variable10 = 6"
   ]
  },
  {
   "cell_type": "markdown",
   "metadata": {},
   "source": [
    "## Hipótesis\n",
    "1. Variable 1. Todo está bien \n",
    "2. Variable 2. Faltan las comillas del final \n",
    "3. Variable 3. Se está utilizando una palabra reservada para declarar una variable.\n",
    "4. Variable 4. El 1 es un caracter fácilmente confundible con la l. Además se están untilizando espacios en el nombre.\n",
    "5. Variable 5. Se está utilizando una palabra reservada para declarar una variable.\n",
    "6. Variable 6. El número no puede ir al comienzo del nombre de una variable. \n",
    "7. Variable 7. Está bien"
   ]
  },
  {
   "cell_type": "code",
   "execution_count": 19,
   "metadata": {},
   "outputs": [
    {
     "ename": "SyntaxError",
     "evalue": "unterminated string literal (detected at line 2) (236918294.py, line 2)",
     "output_type": "error",
     "traceback": [
      "\u001b[1;36m  Cell \u001b[1;32mIn[19], line 2\u001b[1;36m\u001b[0m\n\u001b[1;33m    otra_var = \"Ejercicio\u001b[0m\n\u001b[1;37m               ^\u001b[0m\n\u001b[1;31mSyntaxError\u001b[0m\u001b[1;31m:\u001b[0m unterminated string literal (detected at line 2)\n"
     ]
    }
   ],
   "source": [
    "mi_variable = \"Economía\"\n",
    "otra_var = \"Ejercicio\n",
    "True = \"Ejercicio\"\n",
    "mi variab1e = \"Alpha\"\n",
    "import = 40\n",
    "81mi_variable = \"Agua\"\n",
    "mi_variable10 = 6"
   ]
  },
  {
   "cell_type": "markdown",
   "metadata": {},
   "source": [
    "## Ejercicio 4\n",
    "Realiza un conversor de grados Celsius a Fahrenheit. El conversor tiene que recibir el input del usuario y devolver la conversión.\n",
    "\n",
    "La conversión de grados sigue la siguiente fórmula: F = C × (9 / 5) + 32 "
   ]
  },
  {
   "cell_type": "code",
   "execution_count": 2,
   "metadata": {},
   "outputs": [
    {
     "name": "stdout",
     "output_type": "stream",
     "text": [
      "La conversión a farenheit da: 58.28\n"
     ]
    }
   ],
   "source": [
    "grados_celsius= input(\"Añade los grados en celsius\") #input en el que el usuario da el valor \n",
    "grados_farenheit= float(grados_celsius.replace(\",\",\".\")) * (9/5) + 32\n",
    "print(f\"La conversión a farenheit da: {round(grados_farenheit,2)}\") #output con el valor convertido y redondeado al segundo decimal"
   ]
  },
  {
   "cell_type": "markdown",
   "metadata": {},
   "source": [
    "## Ejercicio 5\n",
    "Comenta  el Ejercicio 4. Pon un comentario multilinea y haz comentarios de cada linea de código. Indica cuál es el input y el output de tu código."
   ]
  },
  {
   "cell_type": "code",
   "execution_count": 8,
   "metadata": {},
   "outputs": [
    {
     "name": "stdout",
     "output_type": "stream",
     "text": [
      "La conversión a farenheit da: 54.86\n"
     ]
    }
   ],
   "source": [
    "grados_celsius= input(\"Añade los grados en celsius\") #input en el que el usuario da el valor \n",
    "grados_farenheit= float(grados_celsius.replace(\",\",\".\")) * (9/5) + 32\n",
    "\n",
    "\"\"\"\" \n",
    "Este es un comentario multilínea para explicar la operación intermedia.\n",
    "El input recibido lo transformamos en float y realizamos las operaciones indicadas en el enunciado\n",
    "\n",
    "\"\"\"\n",
    "\n",
    "print(f\"La conversión a farenheit da: {round(grados_farenheit,2)}\") #output con el valor convertido y redondeado al segundo decimal"
   ]
  },
  {
   "cell_type": "code",
   "execution_count": null,
   "metadata": {},
   "outputs": [],
   "source": []
  }
 ],
 "metadata": {
  "kernelspec": {
   "display_name": "Python 3",
   "language": "python",
   "name": "python3"
  },
  "language_info": {
   "codemirror_mode": {
    "name": "ipython",
    "version": 3
   },
   "file_extension": ".py",
   "mimetype": "text/x-python",
   "name": "python",
   "nbconvert_exporter": "python",
   "pygments_lexer": "ipython3",
   "version": "3.10.11"
  },
  "nbTranslate": {
   "displayLangs": [
    "*"
   ],
   "hotkey": "alt-t",
   "langInMainMenu": true,
   "sourceLang": "en",
   "targetLang": "fr",
   "useGoogleTranslate": true
  },
  "varInspector": {
   "cols": {
    "lenName": 16,
    "lenType": 16,
    "lenVar": 40
   },
   "kernels_config": {
    "python": {
     "delete_cmd_postfix": "",
     "delete_cmd_prefix": "del ",
     "library": "var_list.py",
     "varRefreshCmd": "print(var_dic_list())"
    },
    "r": {
     "delete_cmd_postfix": ") ",
     "delete_cmd_prefix": "rm(",
     "library": "var_list.r",
     "varRefreshCmd": "cat(var_dic_list()) "
    }
   },
   "types_to_exclude": [
    "module",
    "function",
    "builtin_function_or_method",
    "instance",
    "_Feature"
   ],
   "window_display": false
  }
 },
 "nbformat": 4,
 "nbformat_minor": 4
}
