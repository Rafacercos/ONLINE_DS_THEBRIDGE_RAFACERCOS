{
 "cells": [
  {
   "cell_type": "code",
   "execution_count": 46,
   "metadata": {},
   "outputs": [
    {
     "data": {
      "text/plain": [
       "[[(8, 2), (8, 3)],\n",
       " [(3, 4), (3, 5)],\n",
       " [(2, 7), (2, 8)],\n",
       " [(7, 4), (7, 5), (7, 6)],\n",
       " [(0, 6), (1, 6), (2, 6)],\n",
       " [(9, 7), (10, 7), (11, 7), (12, 7)]]"
      ]
     },
     "execution_count": 46,
     "metadata": {},
     "output_type": "execute_result"
    }
   ],
   "source": [
    "from utils import *\n",
    "lista_esloras = [2,2,2,3,3,4]\n",
    "tablero = crear_tablero()\n",
    "lista_barcos = []\n",
    "def empaquetar_barcos(lista_esloras):\n",
    "    for i in lista_esloras:\n",
    "        lista_barcos.append(crear_barco_aleatorio(i))\n",
    "    return lista_barcos\n",
    "\n",
    "        \n",
    "def crear_tablero(tamaño=(10,10)):\n",
    "    return np.full(tamaño, '_')\n",
    "\n",
    "empaquetar_barcos(lista_esloras)  \n",
    "\n"
   ]
  },
  {
   "cell_type": "code",
   "execution_count": 36,
   "metadata": {},
   "outputs": [],
   "source": [
    "import numpy as np \n",
    "import random \n",
    "from utils import *\n"
   ]
  },
  {
   "cell_type": "code",
   "execution_count": 4,
   "metadata": {},
   "outputs": [
    {
     "data": {
      "text/plain": [
       "array([['_', '_', '_', '_', '_', '_', '_', '_', '_', '_'],\n",
       "       ['_', '_', '_', '_', '_', '_', '_', '_', '_', '_'],\n",
       "       ['_', '_', '_', '_', '_', '_', '_', '_', '_', '_'],\n",
       "       ['_', '_', '_', '_', '_', '_', '_', '_', '_', '_'],\n",
       "       ['_', '_', '_', '_', '_', '_', '_', '_', '_', '_'],\n",
       "       ['_', '_', '_', '_', '_', '_', '_', '_', '_', '_'],\n",
       "       ['_', '_', '_', '_', '_', '_', '_', '_', '_', '_'],\n",
       "       ['_', '_', '_', '_', '_', '_', '_', '_', '_', '_'],\n",
       "       ['_', '_', '_', '_', '_', '_', '_', '_', '_', '_'],\n",
       "       ['_', '_', '_', '_', '_', '_', '_', '_', '_', '_']], dtype='<U1')"
      ]
     },
     "execution_count": 4,
     "metadata": {},
     "output_type": "execute_result"
    }
   ],
   "source": [
    "def crear_tablero(tamaño=(10,10)):\n",
    "    return np.full(tamaño, '_')\n",
    "crear_tablero()"
   ]
  },
  {
   "cell_type": "code",
   "execution_count": 5,
   "metadata": {},
   "outputs": [
    {
     "name": "stdout",
     "output_type": "stream",
     "text": [
      "[['_' '_' '_' '_' '_' '_' '_' '_' '_' '_']\n",
      " ['_' '_' '_' '_' '_' '_' '_' '_' '_' '_']\n",
      " ['_' '_' '_' '_' '_' '_' '_' '_' '_' '_']\n",
      " ['_' '_' '_' '_' '_' '_' '_' '_' '_' '_']\n",
      " ['_' '_' '_' '_' '_' '_' '_' '_' '_' '_']\n",
      " ['_' '_' '_' '_' '_' '_' '_' '_' '_' '_']\n",
      " ['_' '_' '_' '_' '_' '_' '_' '_' '_' '_']\n",
      " ['_' '_' '_' '_' '_' '_' '_' '_' '_' '_']\n",
      " ['_' '_' '_' '_' '_' '_' '_' '_' '_' '_']\n",
      " ['_' '_' '_' '_' '_' '_' '_' '_' '_' '_']]\n"
     ]
    }
   ],
   "source": [
    "tablero = crear_tablero()\n",
    "print(tablero)"
   ]
  },
  {
   "cell_type": "code",
   "execution_count": null,
   "metadata": {},
   "outputs": [],
   "source": [
    "def crear_barco_aleatorio(eslora):\n",
    "    fila = random.randint(0,9)\n",
    "    columna = random.randint(0,9)\n",
    "    barco_aleatorio = [(fila, columna)]\n",
    "\n",
    "    orientacion = random.choice([\"Horizontal\", \"Vertical\"])\n",
    "    while len(barco_aleatorio) < eslora:\n",
    "        if orientacion == \"Horizontal\":\n",
    "            columna = columna + 1\n",
    "            barco_aleatorio.append((fila, columna))\n",
    "        else:\n",
    "            fila = fila + 1\n",
    "            barco_aleatorio.append((fila, columna))\n",
    "    return barco_aleatorio"
   ]
  },
  {
   "cell_type": "code",
   "execution_count": 18,
   "metadata": {},
   "outputs": [],
   "source": [
    "def crear_barco_aleatorio(eslora):\n",
    "    fila = random.randint(0,9)\n",
    "    columna = random.randint(0,9)\n",
    "    orientacion = random.choice([\"Horizontal\", \"Vertical\"])\n",
    "    if orientacion == \"Horizontal\":\n",
    "        columna = random.randint (0,9 - eslora)\n",
    "        fila = random.randint(0,9)\n",
    "    elif orientacion == \"Vertical\" :\n",
    "        fila = random.randint (0,9 - eslora)\n",
    "        columna = random.randint(0,9)\n",
    "    barco_aleatorio = [(fila, columna)]\n",
    "    while len(barco_aleatorio) < eslora:\n",
    "        if orientacion == \"Horizontal\":\n",
    "            columna = columna + 1\n",
    "            barco_aleatorio.append((fila, columna))\n",
    "        else:\n",
    "            fila = fila + 1\n",
    "            barco_aleatorio.append((fila, columna))\n",
    "    return barco_aleatorio"
   ]
  },
  {
   "cell_type": "code",
   "execution_count": 19,
   "metadata": {},
   "outputs": [
    {
     "data": {
      "text/plain": [
       "[(8, 0), (8, 1), (8, 2)]"
      ]
     },
     "execution_count": 19,
     "metadata": {},
     "output_type": "execute_result"
    }
   ],
   "source": [
    "crear_barco_aleatorio(3)"
   ]
  },
  {
   "cell_type": "code",
   "execution_count": 32,
   "metadata": {},
   "outputs": [],
   "source": [
    "\n",
    "def crear_lista_barcos(lista_esloras=[2,2,2,3,3,4]):\n",
    "    lista_barcos = []\n",
    "    for i in lista_esloras:\n",
    "        lista_barcos.append(crear_barco_aleatorio(i))\n",
    "    return lista_barcos"
   ]
  },
  {
   "cell_type": "code",
   "execution_count": 34,
   "metadata": {},
   "outputs": [],
   "source": [
    "\n",
    "lista_barcos=crear_lista_barcos()"
   ]
  },
  {
   "cell_type": "code",
   "execution_count": 44,
   "metadata": {},
   "outputs": [],
   "source": [
    "tablero = crear_tablero()\n",
    "def colocar_barcos_random(tablero):\n",
    "    lista_barcos=crear_lista_barcos()\n",
    "    for barco in lista_barcos:\n",
    "        colocar_barco(barco,tablero)\n",
    "    return print (tablero)"
   ]
  },
  {
   "cell_type": "code",
   "execution_count": 45,
   "metadata": {},
   "outputs": [
    {
     "name": "stdout",
     "output_type": "stream",
     "text": [
      "[['_' '_' '_' '_' '_' 'O' '_' '_' '_' '_']\n",
      " ['_' '_' '_' '_' '_' 'O' 'O' 'O' '_' '_']\n",
      " ['_' '_' '_' '_' '_' '_' '_' '_' '_' '_']\n",
      " ['_' '_' '_' '_' '_' '_' '_' '_' '_' '_']\n",
      " ['O' '_' '_' '_' '_' 'O' '_' '_' '_' 'O']\n",
      " ['O' '_' '_' '_' '_' 'O' '_' 'O' '_' 'O']\n",
      " ['_' '_' '_' '_' '_' '_' '_' 'O' '_' 'O']\n",
      " ['_' '_' '_' '_' '_' '_' '_' 'O' '_' 'O']\n",
      " ['_' '_' '_' '_' '_' '_' '_' '_' '_' '_']\n",
      " ['_' '_' '_' '_' '_' '_' '_' '_' '_' '_']]\n"
     ]
    }
   ],
   "source": [
    "colocar_barcos_random(tablero)"
   ]
  },
  {
   "cell_type": "code",
   "execution_count": null,
   "metadata": {},
   "outputs": [],
   "source": []
  }
 ],
 "metadata": {
  "kernelspec": {
   "display_name": "Python 3",
   "language": "python",
   "name": "python3"
  },
  "language_info": {
   "codemirror_mode": {
    "name": "ipython",
    "version": 3
   },
   "file_extension": ".py",
   "mimetype": "text/x-python",
   "name": "python",
   "nbconvert_exporter": "python",
   "pygments_lexer": "ipython3",
   "version": "3.10.11"
  }
 },
 "nbformat": 4,
 "nbformat_minor": 2
}
